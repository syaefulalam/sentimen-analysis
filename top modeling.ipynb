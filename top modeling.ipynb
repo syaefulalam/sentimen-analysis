{
  "nbformat": 4,
  "nbformat_minor": 0,
  "metadata": {
    "colab": {
      "name": "Untitled5.ipynb",
      "provenance": [],
      "include_colab_link": true
    },
    "kernelspec": {
      "name": "python3",
      "display_name": "Python 3"
    }
  },
  "cells": [
    {
      "cell_type": "markdown",
      "metadata": {
        "id": "view-in-github",
        "colab_type": "text"
      },
      "source": [
        "<a href=\"https://colab.research.google.com/github/syaefulalam/sentimen-analysis/blob/master/top%20modeling.ipynb\" target=\"_parent\"><img src=\"https://colab.research.google.com/assets/colab-badge.svg\" alt=\"Open In Colab\"/></a>"
      ]
    },
    {
      "cell_type": "code",
      "metadata": {
        "id": "M_dZM--cuEHR",
        "colab_type": "code",
        "colab": {}
      },
      "source": [
        ""
      ],
      "execution_count": 0,
      "outputs": []
    },
    {
      "cell_type": "markdown",
      "metadata": {
        "id": "uO5nfVDRuIkp",
        "colab_type": "text"
      },
      "source": [
        "**Using Gensim for Topic Modeling**\n",
        "\n",
        "We’re going to use the gensim implementations because they offer more functionality out of the box and then we’ll replicate that functionality with sklearn. Let’s first prepare the dataset we’ll be working with."
      ]
    },
    {
      "cell_type": "code",
      "metadata": {
        "id": "I0Z6EE2VuSnU",
        "colab_type": "code",
        "colab": {
          "base_uri": "https://localhost:8080/",
          "height": 1000
        },
        "outputId": "ebfe86fb-d22d-4b94-cf7c-31f6e1633ef6"
      },
      "source": [
        "!pip install sastrawi\n",
        "!pip install pyldavis\n",
        "!pip install gensim==3.8.0\n",
        "\n",
        "import nltk\n",
        "from bs4 import BeautifulSoup\n",
        "from Sastrawi.Stemmer.StemmerFactory import StemmerFactory\n",
        "import re \n",
        "\n",
        "import re\n",
        "from gensim import models, corpora\n",
        "from nltk import word_tokenize\n",
        "from nltk.corpus import stopwords\n",
        "\n",
        "nltk.download('stopwords')\n",
        "nltk.download('punkt')"
      ],
      "execution_count": 1,
      "outputs": [
        {
          "output_type": "stream",
          "text": [
            "Collecting sastrawi\n",
            "\u001b[?25l  Downloading https://files.pythonhosted.org/packages/6f/4b/bab676953da3103003730b8fcdfadbdd20f333d4add10af949dd5c51e6ed/Sastrawi-1.0.1-py2.py3-none-any.whl (209kB)\n",
            "\u001b[K     |████████████████████████████████| 215kB 4.9MB/s \n",
            "\u001b[?25hInstalling collected packages: sastrawi\n",
            "Successfully installed sastrawi-1.0.1\n",
            "Collecting pyldavis\n",
            "\u001b[?25l  Downloading https://files.pythonhosted.org/packages/a5/3a/af82e070a8a96e13217c8f362f9a73e82d61ac8fff3a2561946a97f96266/pyLDAvis-2.1.2.tar.gz (1.6MB)\n",
            "\u001b[K     |████████████████████████████████| 1.6MB 4.7MB/s \n",
            "\u001b[?25hRequirement already satisfied: wheel>=0.23.0 in /usr/local/lib/python3.6/dist-packages (from pyldavis) (0.33.6)\n",
            "Requirement already satisfied: numpy>=1.9.2 in /usr/local/lib/python3.6/dist-packages (from pyldavis) (1.16.5)\n",
            "Requirement already satisfied: scipy>=0.18.0 in /usr/local/lib/python3.6/dist-packages (from pyldavis) (1.3.1)\n",
            "Requirement already satisfied: pandas>=0.17.0 in /usr/local/lib/python3.6/dist-packages (from pyldavis) (0.24.2)\n",
            "Requirement already satisfied: joblib>=0.8.4 in /usr/local/lib/python3.6/dist-packages (from pyldavis) (0.14.0)\n",
            "Requirement already satisfied: jinja2>=2.7.2 in /usr/local/lib/python3.6/dist-packages (from pyldavis) (2.10.3)\n",
            "Requirement already satisfied: numexpr in /usr/local/lib/python3.6/dist-packages (from pyldavis) (2.7.0)\n",
            "Requirement already satisfied: pytest in /usr/local/lib/python3.6/dist-packages (from pyldavis) (3.6.4)\n",
            "Requirement already satisfied: future in /usr/local/lib/python3.6/dist-packages (from pyldavis) (0.16.0)\n",
            "Collecting funcy (from pyldavis)\n",
            "  Downloading https://files.pythonhosted.org/packages/eb/3a/fc8323f913e8a9c6f33f7203547f8a2171223da5ed965f2541dafb10aa09/funcy-1.13-py2.py3-none-any.whl\n",
            "Requirement already satisfied: pytz>=2011k in /usr/local/lib/python3.6/dist-packages (from pandas>=0.17.0->pyldavis) (2018.9)\n",
            "Requirement already satisfied: python-dateutil>=2.5.0 in /usr/local/lib/python3.6/dist-packages (from pandas>=0.17.0->pyldavis) (2.5.3)\n",
            "Requirement already satisfied: MarkupSafe>=0.23 in /usr/local/lib/python3.6/dist-packages (from jinja2>=2.7.2->pyldavis) (1.1.1)\n",
            "Requirement already satisfied: atomicwrites>=1.0 in /usr/local/lib/python3.6/dist-packages (from pytest->pyldavis) (1.3.0)\n",
            "Requirement already satisfied: pluggy<0.8,>=0.5 in /usr/local/lib/python3.6/dist-packages (from pytest->pyldavis) (0.7.1)\n",
            "Requirement already satisfied: py>=1.5.0 in /usr/local/lib/python3.6/dist-packages (from pytest->pyldavis) (1.8.0)\n",
            "Requirement already satisfied: setuptools in /usr/local/lib/python3.6/dist-packages (from pytest->pyldavis) (41.2.0)\n",
            "Requirement already satisfied: six>=1.10.0 in /usr/local/lib/python3.6/dist-packages (from pytest->pyldavis) (1.12.0)\n",
            "Requirement already satisfied: more-itertools>=4.0.0 in /usr/local/lib/python3.6/dist-packages (from pytest->pyldavis) (7.2.0)\n",
            "Requirement already satisfied: attrs>=17.4.0 in /usr/local/lib/python3.6/dist-packages (from pytest->pyldavis) (19.3.0)\n",
            "Building wheels for collected packages: pyldavis\n",
            "  Building wheel for pyldavis (setup.py) ... \u001b[?25l\u001b[?25hdone\n",
            "  Created wheel for pyldavis: filename=pyLDAvis-2.1.2-py2.py3-none-any.whl size=97711 sha256=92ee1491636332d404e2bde007deb11ed1913b2e17b60e43ad009aa3d6579bfa\n",
            "  Stored in directory: /root/.cache/pip/wheels/98/71/24/513a99e58bb6b8465bae4d2d5e9dba8f0bef8179e3051ac414\n",
            "Successfully built pyldavis\n",
            "Installing collected packages: funcy, pyldavis\n",
            "Successfully installed funcy-1.13 pyldavis-2.1.2\n",
            "Collecting gensim==3.8.0\n",
            "\u001b[?25l  Downloading https://files.pythonhosted.org/packages/40/3d/89b27573f56abcd1b8c9598b240f53c45a3c79aa0924a24588e99716043b/gensim-3.8.0-cp36-cp36m-manylinux1_x86_64.whl (24.2MB)\n",
            "\u001b[K     |████████████████████████████████| 24.2MB 85.3MB/s \n",
            "\u001b[?25hRequirement already satisfied: numpy>=1.11.3 in /usr/local/lib/python3.6/dist-packages (from gensim==3.8.0) (1.16.5)\n",
            "Requirement already satisfied: smart-open>=1.7.0 in /usr/local/lib/python3.6/dist-packages (from gensim==3.8.0) (1.8.4)\n",
            "Requirement already satisfied: six>=1.5.0 in /usr/local/lib/python3.6/dist-packages (from gensim==3.8.0) (1.12.0)\n",
            "Requirement already satisfied: scipy>=0.18.1 in /usr/local/lib/python3.6/dist-packages (from gensim==3.8.0) (1.3.1)\n",
            "Requirement already satisfied: requests in /usr/local/lib/python3.6/dist-packages (from smart-open>=1.7.0->gensim==3.8.0) (2.21.0)\n",
            "Requirement already satisfied: boto>=2.32 in /usr/local/lib/python3.6/dist-packages (from smart-open>=1.7.0->gensim==3.8.0) (2.49.0)\n",
            "Requirement already satisfied: boto3 in /usr/local/lib/python3.6/dist-packages (from smart-open>=1.7.0->gensim==3.8.0) (1.9.250)\n",
            "Requirement already satisfied: idna<2.9,>=2.5 in /usr/local/lib/python3.6/dist-packages (from requests->smart-open>=1.7.0->gensim==3.8.0) (2.8)\n",
            "Requirement already satisfied: chardet<3.1.0,>=3.0.2 in /usr/local/lib/python3.6/dist-packages (from requests->smart-open>=1.7.0->gensim==3.8.0) (3.0.4)\n",
            "Requirement already satisfied: urllib3<1.25,>=1.21.1 in /usr/local/lib/python3.6/dist-packages (from requests->smart-open>=1.7.0->gensim==3.8.0) (1.24.3)\n",
            "Requirement already satisfied: certifi>=2017.4.17 in /usr/local/lib/python3.6/dist-packages (from requests->smart-open>=1.7.0->gensim==3.8.0) (2019.9.11)\n",
            "Requirement already satisfied: jmespath<1.0.0,>=0.7.1 in /usr/local/lib/python3.6/dist-packages (from boto3->smart-open>=1.7.0->gensim==3.8.0) (0.9.4)\n",
            "Requirement already satisfied: s3transfer<0.3.0,>=0.2.0 in /usr/local/lib/python3.6/dist-packages (from boto3->smart-open>=1.7.0->gensim==3.8.0) (0.2.1)\n",
            "Requirement already satisfied: botocore<1.13.0,>=1.12.250 in /usr/local/lib/python3.6/dist-packages (from boto3->smart-open>=1.7.0->gensim==3.8.0) (1.12.250)\n",
            "Requirement already satisfied: python-dateutil<3.0.0,>=2.1; python_version >= \"2.7\" in /usr/local/lib/python3.6/dist-packages (from botocore<1.13.0,>=1.12.250->boto3->smart-open>=1.7.0->gensim==3.8.0) (2.5.3)\n",
            "Requirement already satisfied: docutils<0.16,>=0.10 in /usr/local/lib/python3.6/dist-packages (from botocore<1.13.0,>=1.12.250->boto3->smart-open>=1.7.0->gensim==3.8.0) (0.15.2)\n",
            "Installing collected packages: gensim\n",
            "  Found existing installation: gensim 3.6.0\n",
            "    Uninstalling gensim-3.6.0:\n",
            "      Successfully uninstalled gensim-3.6.0\n",
            "Successfully installed gensim-3.8.0\n",
            "[nltk_data] Downloading package stopwords to /root/nltk_data...\n",
            "[nltk_data]   Unzipping corpora/stopwords.zip.\n",
            "[nltk_data] Downloading package punkt to /root/nltk_data...\n",
            "[nltk_data]   Unzipping tokenizers/punkt.zip.\n"
          ],
          "name": "stdout"
        },
        {
          "output_type": "execute_result",
          "data": {
            "text/plain": [
              "True"
            ]
          },
          "metadata": {
            "tags": []
          },
          "execution_count": 1
        }
      ]
    },
    {
      "cell_type": "code",
      "metadata": {
        "id": "hz6GomQCud5F",
        "colab_type": "code",
        "colab": {
          "base_uri": "https://localhost:8080/",
          "height": 343
        },
        "outputId": "f7ee929f-7e2e-4ce8-f4c8-94d07391fe23"
      },
      "source": [
        "!pip install gensim==3.8.0\n",
        "import pkg_resources\n",
        "pkg_resources.get_distribution(\"gensim\").version\n"
      ],
      "execution_count": 2,
      "outputs": [
        {
          "output_type": "stream",
          "text": [
            "Requirement already satisfied: gensim==3.8.0 in /usr/local/lib/python3.6/dist-packages (3.8.0)\n",
            "Requirement already satisfied: smart-open>=1.7.0 in /usr/local/lib/python3.6/dist-packages (from gensim==3.8.0) (1.8.4)\n",
            "Requirement already satisfied: numpy>=1.11.3 in /usr/local/lib/python3.6/dist-packages (from gensim==3.8.0) (1.16.5)\n",
            "Requirement already satisfied: scipy>=0.18.1 in /usr/local/lib/python3.6/dist-packages (from gensim==3.8.0) (1.3.1)\n",
            "Requirement already satisfied: six>=1.5.0 in /usr/local/lib/python3.6/dist-packages (from gensim==3.8.0) (1.12.0)\n",
            "Requirement already satisfied: requests in /usr/local/lib/python3.6/dist-packages (from smart-open>=1.7.0->gensim==3.8.0) (2.21.0)\n",
            "Requirement already satisfied: boto3 in /usr/local/lib/python3.6/dist-packages (from smart-open>=1.7.0->gensim==3.8.0) (1.9.250)\n",
            "Requirement already satisfied: boto>=2.32 in /usr/local/lib/python3.6/dist-packages (from smart-open>=1.7.0->gensim==3.8.0) (2.49.0)\n",
            "Requirement already satisfied: idna<2.9,>=2.5 in /usr/local/lib/python3.6/dist-packages (from requests->smart-open>=1.7.0->gensim==3.8.0) (2.8)\n",
            "Requirement already satisfied: urllib3<1.25,>=1.21.1 in /usr/local/lib/python3.6/dist-packages (from requests->smart-open>=1.7.0->gensim==3.8.0) (1.24.3)\n",
            "Requirement already satisfied: chardet<3.1.0,>=3.0.2 in /usr/local/lib/python3.6/dist-packages (from requests->smart-open>=1.7.0->gensim==3.8.0) (3.0.4)\n",
            "Requirement already satisfied: certifi>=2017.4.17 in /usr/local/lib/python3.6/dist-packages (from requests->smart-open>=1.7.0->gensim==3.8.0) (2019.9.11)\n",
            "Requirement already satisfied: s3transfer<0.3.0,>=0.2.0 in /usr/local/lib/python3.6/dist-packages (from boto3->smart-open>=1.7.0->gensim==3.8.0) (0.2.1)\n",
            "Requirement already satisfied: jmespath<1.0.0,>=0.7.1 in /usr/local/lib/python3.6/dist-packages (from boto3->smart-open>=1.7.0->gensim==3.8.0) (0.9.4)\n",
            "Requirement already satisfied: botocore<1.13.0,>=1.12.250 in /usr/local/lib/python3.6/dist-packages (from boto3->smart-open>=1.7.0->gensim==3.8.0) (1.12.250)\n",
            "Requirement already satisfied: docutils<0.16,>=0.10 in /usr/local/lib/python3.6/dist-packages (from botocore<1.13.0,>=1.12.250->boto3->smart-open>=1.7.0->gensim==3.8.0) (0.15.2)\n",
            "Requirement already satisfied: python-dateutil<3.0.0,>=2.1; python_version >= \"2.7\" in /usr/local/lib/python3.6/dist-packages (from botocore<1.13.0,>=1.12.250->boto3->smart-open>=1.7.0->gensim==3.8.0) (2.5.3)\n"
          ],
          "name": "stdout"
        },
        {
          "output_type": "execute_result",
          "data": {
            "text/plain": [
              "'3.6.0'"
            ]
          },
          "metadata": {
            "tags": []
          },
          "execution_count": 2
        }
      ]
    },
    {
      "cell_type": "code",
      "metadata": {
        "id": "zSHU0JZAHmKG",
        "colab_type": "code",
        "colab": {
          "resources": {
            "http://localhost:8080/nbextensions/google.colab/files.js": {
              "data": "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",
              "ok": true,
              "headers": [
                [
                  "content-type",
                  "application/javascript"
                ]
              ],
              "status": 200,
              "status_text": ""
            }
          },
          "base_uri": "https://localhost:8080/",
          "height": 71
        },
        "outputId": "919895a1-b952-48db-b76c-8ec999d998c1"
      },
      "source": [
        "from google.colab import files\n",
        "uploaded = files.upload()"
      ],
      "execution_count": 33,
      "outputs": [
        {
          "output_type": "display_data",
          "data": {
            "text/html": [
              "\n",
              "     <input type=\"file\" id=\"files-6a1fda5b-7b02-41a5-8da1-7413d65d26f1\" name=\"files[]\" multiple disabled />\n",
              "     <output id=\"result-6a1fda5b-7b02-41a5-8da1-7413d65d26f1\">\n",
              "      Upload widget is only available when the cell has been executed in the\n",
              "      current browser session. Please rerun this cell to enable.\n",
              "      </output>\n",
              "      <script src=\"/nbextensions/google.colab/files.js\"></script> "
            ],
            "text/plain": [
              "<IPython.core.display.HTML object>"
            ]
          },
          "metadata": {
            "tags": []
          }
        },
        {
          "output_type": "stream",
          "text": [
            "Saving berita2.txt to berita2.txt\n"
          ],
          "name": "stdout"
        }
      ]
    },
    {
      "cell_type": "code",
      "metadata": {
        "id": "2JJlz3RhHt1g",
        "colab_type": "code",
        "colab": {
          "base_uri": "https://localhost:8080/",
          "height": 34
        },
        "outputId": "d744a54a-1bc3-489d-f2d6-ed6285d09557"
      },
      "source": [
        "for fn in uploaded.keys():\n",
        "  print('User uploaded file \"{name}\" with length {length} bytes'.format(name=fn, length=len(uploaded[fn])))"
      ],
      "execution_count": 34,
      "outputs": [
        {
          "output_type": "stream",
          "text": [
            "User uploaded file \"berita2.txt\" with length 77108 bytes\n"
          ],
          "name": "stdout"
        }
      ]
    },
    {
      "cell_type": "code",
      "metadata": {
        "id": "SmMeZ4WqHyoz",
        "colab_type": "code",
        "colab": {}
      },
      "source": [
        "import pandas as pd\n",
        "import io"
      ],
      "execution_count": 0,
      "outputs": []
    },
    {
      "cell_type": "code",
      "metadata": {
        "id": "IhQX2lNbur5F",
        "colab_type": "code",
        "colab": {
          "base_uri": "https://localhost:8080/",
          "height": 34
        },
        "outputId": "8bbac115-a4a9-473d-fcbb-7e45003e71b2"
      },
      "source": [
        "article = open('berita2.txt','r').read().split('BERHENTI DISINI')\n",
        "len(article)"
      ],
      "execution_count": 40,
      "outputs": [
        {
          "output_type": "execute_result",
          "data": {
            "text/plain": [
              "32"
            ]
          },
          "metadata": {
            "tags": []
          },
          "execution_count": 40
        }
      ]
    },
    {
      "cell_type": "code",
      "metadata": {
        "id": "ISS1yQrBLoWC",
        "colab_type": "code",
        "colab": {
          "base_uri": "https://localhost:8080/",
          "height": 272
        },
        "outputId": "2f724541-2313-442a-a0d7-e36f64544c80"
      },
      "source": [
        "article_clean = []\n",
        "for text in article:\n",
        "    text = BeautifulSoup(text, 'html.parser').getText()\n",
        "    article_clean.append(text)\n",
        "article = article_clean\n",
        "print(article[0][:100])"
      ],
      "execution_count": 41,
      "outputs": [
        {
          "output_type": "stream",
          "text": [
            "﻿\n",
            "\n",
            "Kroasia: Melawan Argentina adalah Pertandingan Termudah\n",
            "\n",
            "\n",
            "\n",
            "\n",
            "\n",
            "\n",
            "\n",
            "\n",
            "\n",
            "\n",
            "\n",
            "Jakarta, CNN Indonesia -- Agun\n"
          ],
          "name": "stdout"
        }
      ]
    },
    {
      "cell_type": "markdown",
      "metadata": {
        "id": "2e0m79fiwMWL",
        "colab_type": "text"
      },
      "source": [
        "Tokenize and clean stopwords"
      ]
    },
    {
      "cell_type": "code",
      "metadata": {
        "id": "uQWEkt2AwLpC",
        "colab_type": "code",
        "colab": {}
      },
      "source": [
        "factory = StemmerFactory()\n",
        "stemmer = factory.create_stemmer()"
      ],
      "execution_count": 0,
      "outputs": []
    },
    {
      "cell_type": "code",
      "metadata": {
        "id": "2k_8JXmCwSZs",
        "colab_type": "code",
        "colab": {}
      },
      "source": [
        "def tokenize_and_stem(text):\n",
        "    stopwords = nltk.corpus.stopwords.words('indonesian')\n",
        "    # first tokenize by sentence, then by word to ensure that punctuation is caught as it's own token\n",
        "    tokens = [word for sent in nltk.sent_tokenize(text) for word in nltk.word_tokenize(sent)]\n",
        "    filtered_tokens = []\n",
        "    # filter out any tokens not containing letters (e.g., numeric tokens, raw punctuation)\n",
        "    for token in tokens:\n",
        "        if re.search('[a-zA-Z]', token) and token not in stopwords:\n",
        "            filtered_tokens.append(token)\n",
        "    stems = [stemmer.stem(t) for t in filtered_tokens]\n",
        "    return stems"
      ],
      "execution_count": 0,
      "outputs": []
    },
    {
      "cell_type": "code",
      "metadata": {
        "id": "BvUJe12iMHoa",
        "colab_type": "code",
        "colab": {
          "base_uri": "https://localhost:8080/",
          "height": 54
        },
        "outputId": "fdc616cf-fc35-4fb3-fe31-1df3041b46a4"
      },
      "source": [
        "# For gensim we need to tokenize the data and filter out stopwords\n",
        "tokenized_data = []\n",
        "for text in article:\n",
        "    tokenized_data.append(tokenize_and_stem(text))\n",
        "\n",
        "# Build a Dictionary - association word to numeric id\n",
        "dictionary = corpora.Dictionary(tokenized_data)\n",
        " \n",
        "# Transform the collection of texts to a numerical form\n",
        "corpus = [dictionary.doc2bow(text) for text in tokenized_data]\n",
        " \n",
        "# Have a look at how the 20th document looks like: [(word_id, count), ...]\n",
        "print(corpus[20])\n",
        "# [(12, 3), (14, 1), (21, 1), (25, 5), (30, 2), (31, 5), (33, 1), (42, 1), (43, 2),  ...\n"
      ],
      "execution_count": 44,
      "outputs": [
        {
          "output_type": "stream",
          "text": [
            "[(2, 1), (3, 1), (11, 1), (19, 4), (22, 2), (24, 1), (26, 1), (44, 1), (50, 1), (164, 2), (183, 9), (196, 1), (223, 2), (230, 1), (252, 4), (274, 1), (280, 1), (284, 1), (309, 1), (314, 1), (335, 2), (341, 1), (404, 1), (431, 1), (434, 1), (452, 1), (465, 1), (474, 1), (480, 1), (485, 2), (489, 1), (500, 1), (504, 1), (520, 1), (523, 1), (534, 1), (538, 2), (546, 1), (547, 9), (552, 1), (596, 1), (597, 3), (599, 1), (619, 2), (676, 1), (845, 1), (904, 1), (914, 2), (927, 1), (932, 1), (967, 1), (1032, 1), (1038, 2), (1165, 2), (1174, 1), (1283, 1), (1397, 1), (1398, 8), (1399, 1), (1400, 1), (1401, 3), (1402, 1), (1403, 1), (1404, 2), (1405, 4), (1406, 1), (1407, 2), (1408, 3), (1409, 1), (1410, 1), (1411, 1), (1412, 3), (1413, 1), (1414, 4), (1415, 2), (1416, 1), (1417, 1), (1418, 1), (1419, 1), (1420, 1), (1421, 1), (1422, 1), (1423, 1), (1424, 2), (1425, 1), (1426, 1), (1427, 1), (1428, 1), (1429, 1), (1430, 1), (1431, 4), (1432, 1), (1433, 1), (1434, 1), (1435, 1), (1436, 1), (1437, 1), (1438, 1), (1439, 1), (1440, 1), (1441, 2), (1442, 1), (1443, 4), (1444, 1), (1445, 1), (1446, 2), (1447, 9)]\n"
          ],
          "name": "stdout"
        }
      ]
    },
    {
      "cell_type": "code",
      "metadata": {
        "id": "p3qRgxSqP2JY",
        "colab_type": "code",
        "colab": {}
      },
      "source": [
        "NUM_TOPICS = 4\n",
        "\n",
        "# Build the LDA model\n",
        "lda_model = models.LdaModel(corpus=corpus, num_topics=NUM_TOPICS, id2word=dictionary, alpha = 'auto', eval_every=5)#, per_word_topics=True)\n",
        " \n",
        "# Build the LSI model\n",
        "lsi_model = models.LsiModel(corpus=corpus, num_topics=NUM_TOPICS, id2word=dictionary)"
      ],
      "execution_count": 0,
      "outputs": []
    },
    {
      "cell_type": "markdown",
      "metadata": {
        "id": "3OpaywxhP6gP",
        "colab_type": "text"
      },
      "source": [
        "We’re going to run LDA and LSI (Latent Semantic Indexing AKA Latent Semantic Analysis) models, which implementation included in the gensim package.\n",
        "\n",
        "Let’s now display the topics the two models have inferred:"
      ]
    },
    {
      "cell_type": "code",
      "metadata": {
        "id": "XMElpqUjP36_",
        "colab_type": "code",
        "colab": {
          "base_uri": "https://localhost:8080/",
          "height": 241
        },
        "outputId": "d995e59c-34bd-46c1-8553-b5e76e5fdf47"
      },
      "source": [
        "print(\"LDA Model:\")\n",
        " \n",
        "for idx in range(NUM_TOPICS):\n",
        "    # Print the first 10 most representative topics\n",
        "    print(\"Topic #%s:\" % idx, lda_model.print_topic(idx, 10))\n",
        " \n",
        "print(\"=\" * 20)\n",
        " \n",
        "print(\"LSI Model:\")\n",
        " \n",
        "for idx in range(NUM_TOPICS):\n",
        "    # Print the first 10 most representative topics\n",
        "    print(\"Topic #%s:\" % idx, lsi_model.print_topic(idx, 10))\n",
        " \n",
        "print(\"=\" * 20)"
      ],
      "execution_count": 46,
      "outputs": [
        {
          "output_type": "stream",
          "text": [
            "LDA Model:\n",
            "Topic #0: 0.024*\"persen\" + 0.007*\"indeks\" + 0.007*\"diskon\" + 0.007*\"jakarta\" + 0.006*\"lemah\" + 0.006*\"indonesia\" + 0.005*\"laku\" + 0.005*\"saham\" + 0.005*\"cnn\" + 0.004*\"oknum\"\n",
            "Topic #1: 0.009*\"persen\" + 0.008*\"main\" + 0.007*\"dunia\" + 0.006*\"menang\" + 0.005*\"indonesia\" + 0.005*\"golf\" + 0.005*\"piala\" + 0.005*\"rusia\" + 0.005*\"jakarta\" + 0.005*\"saya\"\n",
            "Topic #2: 0.007*\"polisi\" + 0.006*\"duga\" + 0.006*\"jakarta\" + 0.006*\"main\" + 0.006*\"novel\" + 0.006*\"indonesia\" + 0.005*\"dunia\" + 0.005*\"tanding\" + 0.004*\"salah\" + 0.004*\"argentina\"\n",
            "Topic #3: 0.019*\"persen\" + 0.006*\"indonesia\" + 0.006*\"lapor\" + 0.006*\"uang\" + 0.005*\"dolar\" + 0.005*\"hasil\" + 0.005*\"balap\" + 0.005*\"belanja\" + 0.005*\"duga\" + 0.005*\"jakarta\"\n",
            "====================\n",
            "LSI Model:\n",
            "Topic #0: -0.731*\"persen\" + -0.216*\"lemah\" + -0.171*\"dolar\" + -0.165*\"minus\" + -0.133*\"indeks\" + -0.128*\"bunga\" + -0.116*\"kuat\" + -0.111*\"uang\" + -0.104*\"as\" + -0.103*\"dagang\"\n",
            "Topic #1: 0.385*\"novel\" + 0.311*\"oknum\" + 0.300*\"duga\" + 0.271*\"jenderal\" + 0.165*\"kpk\" + 0.142*\"main\" + 0.141*\"keras\" + -0.139*\"persen\" + 0.136*\"polisi\" + 0.131*\"air\"\n",
            "Topic #2: -0.391*\"main\" + -0.294*\"tanding\" + -0.248*\"dunia\" + -0.242*\"argentina\" + -0.230*\"lawan\" + 0.202*\"novel\" + -0.194*\"piala\" + -0.190*\"kroasia\" + -0.188*\"timnas\" + 0.157*\"oknum\"\n",
            "Topic #3: 0.296*\"belanja\" + 0.276*\"diskon\" + 0.229*\"pagu\" + 0.218*\"triliun\" + 0.210*\"serap\" + 0.203*\"menteri\" + -0.169*\"lemah\" + 0.168*\"mei\" + 0.163*\"kerja\" + -0.158*\"minus\"\n",
            "====================\n"
          ],
          "name": "stdout"
        }
      ]
    },
    {
      "cell_type": "markdown",
      "metadata": {
        "id": "7K2CFytEQDDX",
        "colab_type": "text"
      },
      "source": [
        "Let’s now put the models to work and transform unseen documents to their topic distribution:\n",
        "\n",
        "Unsupported Cell Type. Double-Click to inspect/edit the content."
      ]
    },
    {
      "cell_type": "code",
      "metadata": {
        "id": "mFtl6vFWQEBm",
        "colab_type": "code",
        "colab": {
          "base_uri": "https://localhost:8080/",
          "height": 68
        },
        "outputId": "a76040b3-109a-44da-e742-d2cebe43ad29"
      },
      "source": [
        "text = \"Pertandingan berjalan dengan seru. Tim lawan berhasil dikalahkan dengan skor 1-0.\"\n",
        "bow = dictionary.doc2bow(tokenize_and_stem(text))\n",
        "\n",
        "print(lda_model[bow]) \n",
        "print(lsi_model[bow])\n",
        "print(bow)"
      ],
      "execution_count": 47,
      "outputs": [
        {
          "output_type": "stream",
          "text": [
            "[(0, 0.06474505), (1, 0.13383561), (2, 0.7391487), (3, 0.062270623)]\n",
            "[(0, -0.13315407974835303), (1, 0.35909145512635154), (2, -0.8065685310165075), (3, -0.03966512669010286)]\n",
            "[(19, 1), (46, 1), (75, 1), (137, 1), (404, 1), (454, 1), (930, 1)]\n"
          ],
          "name": "stdout"
        }
      ]
    },
    {
      "cell_type": "markdown",
      "metadata": {
        "id": "i0ReF4QSQNaY",
        "colab_type": "text"
      },
      "source": [
        "The LDA result can be interpreted as a distribution over topics. Gensim offers a simple way of performing similarity queries using topic models."
      ]
    },
    {
      "cell_type": "code",
      "metadata": {
        "id": "8JpBYNRdQKXW",
        "colab_type": "code",
        "colab": {
          "base_uri": "https://localhost:8080/",
          "height": 632
        },
        "outputId": "257dc5d7-58cd-428f-d91d-a3219e5af841"
      },
      "source": [
        "from gensim import similarities\n",
        " \n",
        "lda_index = similarities.MatrixSimilarity(lda_model[corpus])\n",
        " \n",
        "# Let's perform some queries\n",
        "similarities = lda_index[lda_model[bow]]\n",
        "# Sort the similarities\n",
        "similarities = sorted(enumerate(similarities), key=lambda item: -item[1])\n",
        " \n",
        "# Top most similar documents:\n",
        "print(similarities[:10])\n",
        " \n",
        "# Let's see what's the most similar document\n",
        "document_id, similarity = similarities[0]\n",
        "print(article[document_id][:1000])"
      ],
      "execution_count": 48,
      "outputs": [
        {
          "output_type": "stream",
          "text": [
            "[(2, 0.97475624), (9, 0.97475624), (28, 0.9207067), (31, 0.6229303), (15, 0.52913433), (0, 0.18847016), (4, 0.18847016), (5, 0.18847016), (11, 0.18847016), (18, 0.18847016)]\n",
            "\n",
            "\n",
            "\n",
            "\n",
            "\n",
            "\n",
            "\n",
            "\n",
            "\n",
            "Jakarta, CNN Indonesia -- Kapolres Jakarta Selatan, Komisaris Besar Indra Jafar mengatakan pihaknya bakal menindaklanjuti laporan seorang warga, Ronny Yuniarto terkait kasus pemukulan dan pengeroyokan yang diduga dilakukan oleh Politisi PDIP Herman Hery.\n",
            "\n",
            "\n",
            "\n",
            "\n",
            "\n",
            "Indra mengatakan pihaknya masih mengumpulkan keterangan polisi lalu lintas (Polantas) yang menjadi saksi di lokasi kejadian serta hasil visum dari korban untuk menindaklanjuti laporan tersebut.\n",
            "\n",
            "\n",
            "\n",
            "\n",
            "\n",
            "\"Proses tetap kita lanjutkan, kita masih minta hasil visum rerhadap korban, kita minta di salah satu rumah sakit rujukan, selain itu juga masih dilakukan penyelidikan yang lain untuk mencari saksi-saksi,\" ujar Indra kepada wartawan di Mapolres Jakarta Selatan, Kamis (21/6).\n",
            "\n",
            "\n",
            "\n",
            "\n",
            "\n",
            "Indra juga mengatakan bakal mendalami keterangan saksi dari polisi yang dinilai melakukan pembiaran terhadap aksi pengeroyokan tersebut.\n",
            "\n",
            "\n",
            "\n",
            "\n",
            "\n",
            "Pengeroyokan itu bermula saat Ronny sedang ditilang polisi lalu lintas di Jalan Arteri Pondok Indah, Jakarta S\n"
          ],
          "name": "stdout"
        }
      ]
    },
    {
      "cell_type": "markdown",
      "metadata": {
        "id": "kVvTTe3eQbQO",
        "colab_type": "text"
      },
      "source": [
        "Notice how the factors corresponding to each component (topic) add up to 1. That’s not a coincidence. Indeed, LDA considers documents as being generated by a mixture of the topics. The purpose of LDA is to compute how much of the document was generated by which topic.\n",
        "\n",
        "LDA is an iterative algorithm. Here are the two main steps:\n",
        "\n",
        "In the initialization stage, each word is assigned to a random topic.\n",
        "Iteratively, the algorithm goes through each word and reassigns the word to a topic taking into consideration:\n",
        "What’s the probability of the word belonging to a topic\n",
        "What’s the probability of the document to be generated by a topic\n",
        "Due to these important qualities, we can visualize LDA results easily. We’re going to use a specialized tool called PyLDAVis:"
      ]
    },
    {
      "cell_type": "code",
      "metadata": {
        "id": "TbCy8TOgQYYc",
        "colab_type": "code",
        "colab": {
          "base_uri": "https://localhost:8080/",
          "height": 1000
        },
        "outputId": "c4bb71c6-0cfd-4108-88d1-f57497d78456"
      },
      "source": [
        "import pyLDAvis.gensim\n",
        " \n",
        "pyLDAvis.enable_notebook()\n",
        "panel = pyLDAvis.gensim.prepare(lda_model, corpus, dictionary)\n",
        "panel"
      ],
      "execution_count": 49,
      "outputs": [
        {
          "output_type": "stream",
          "text": [
            "/usr/local/lib/python3.6/dist-packages/pyLDAvis/_prepare.py:257: FutureWarning: Sorting because non-concatenation axis is not aligned. A future version\n",
            "of pandas will change to not sort by default.\n",
            "\n",
            "To accept the future behavior, pass 'sort=False'.\n",
            "\n",
            "To retain the current behavior and silence the warning, pass 'sort=True'.\n",
            "\n",
            "  return pd.concat([default_term_info] + list(topic_dfs))\n"
          ],
          "name": "stderr"
        },
        {
          "output_type": "execute_result",
          "data": {
            "text/html": [
              "\n",
              "<link rel=\"stylesheet\" type=\"text/css\" href=\"https://cdn.rawgit.com/bmabey/pyLDAvis/files/ldavis.v1.0.0.css\">\n",
              "\n",
              "\n",
              "<div id=\"ldavis_el1281406081754727123121468265\"></div>\n",
              "<script type=\"text/javascript\">\n",
              "\n",
              "var ldavis_el1281406081754727123121468265_data = {\"mdsDat\": {\"x\": [0.04237607499543325, 0.01171732157135923, -0.020717287350093642, -0.033376109216698834], \"y\": [-0.021340786136496603, 0.039274325584601394, -0.012197258282036633, -0.005736281166068165], \"topics\": [1, 2, 3, 4], \"cluster\": [1, 1, 1, 1], \"Freq\": [38.757179260253906, 25.266870498657227, 21.95535659790039, 14.020588874816895]}, \"tinfo\": {\"Category\": [\"Default\", \"Default\", \"Default\", \"Default\", \"Default\", \"Default\", \"Default\", \"Default\", \"Default\", \"Default\", \"Default\", \"Default\", \"Default\", \"Default\", \"Default\", \"Default\", \"Default\", \"Default\", \"Default\", \"Default\", \"Default\", \"Default\", \"Default\", \"Default\", \"Default\", \"Default\", \"Default\", \"Default\", \"Default\", \"Default\", \"Topic1\", \"Topic1\", \"Topic1\", \"Topic1\", \"Topic1\", \"Topic1\", \"Topic1\", \"Topic1\", \"Topic1\", \"Topic1\", \"Topic1\", \"Topic1\", \"Topic1\", \"Topic1\", \"Topic1\", \"Topic1\", \"Topic1\", \"Topic1\", \"Topic1\", \"Topic1\", \"Topic1\", \"Topic1\", \"Topic1\", \"Topic1\", \"Topic1\", \"Topic1\", \"Topic1\", \"Topic1\", \"Topic1\", \"Topic1\", \"Topic1\", \"Topic1\", \"Topic1\", \"Topic1\", \"Topic1\", \"Topic1\", \"Topic1\", \"Topic1\", \"Topic1\", \"Topic1\", \"Topic1\", \"Topic1\", \"Topic1\", \"Topic1\", \"Topic1\", \"Topic1\", \"Topic1\", \"Topic1\", \"Topic1\", \"Topic1\", \"Topic1\", \"Topic1\", \"Topic1\", \"Topic1\", \"Topic1\", \"Topic1\", \"Topic1\", \"Topic1\", \"Topic1\", \"Topic1\", \"Topic1\", \"Topic1\", \"Topic1\", \"Topic1\", \"Topic2\", \"Topic2\", \"Topic2\", \"Topic2\", \"Topic2\", \"Topic2\", \"Topic2\", \"Topic2\", \"Topic2\", \"Topic2\", \"Topic2\", \"Topic2\", \"Topic2\", \"Topic2\", \"Topic2\", \"Topic2\", \"Topic2\", \"Topic2\", \"Topic2\", \"Topic2\", \"Topic2\", \"Topic2\", \"Topic2\", \"Topic2\", \"Topic2\", \"Topic2\", \"Topic2\", \"Topic2\", \"Topic2\", \"Topic2\", \"Topic2\", \"Topic2\", \"Topic2\", \"Topic2\", \"Topic2\", \"Topic2\", \"Topic2\", \"Topic2\", \"Topic2\", \"Topic2\", \"Topic2\", \"Topic2\", \"Topic2\", \"Topic2\", \"Topic2\", \"Topic2\", \"Topic2\", \"Topic2\", \"Topic2\", \"Topic2\", \"Topic2\", \"Topic2\", \"Topic2\", \"Topic2\", \"Topic2\", \"Topic2\", \"Topic2\", \"Topic2\", \"Topic2\", \"Topic2\", \"Topic2\", \"Topic2\", \"Topic3\", \"Topic3\", \"Topic3\", \"Topic3\", \"Topic3\", \"Topic3\", \"Topic3\", \"Topic3\", \"Topic3\", \"Topic3\", \"Topic3\", \"Topic3\", \"Topic3\", \"Topic3\", \"Topic3\", \"Topic3\", \"Topic3\", \"Topic3\", \"Topic3\", \"Topic3\", \"Topic3\", \"Topic3\", \"Topic3\", \"Topic3\", \"Topic3\", \"Topic3\", \"Topic3\", \"Topic3\", \"Topic3\", \"Topic3\", \"Topic3\", \"Topic3\", \"Topic3\", \"Topic3\", \"Topic3\", \"Topic3\", \"Topic3\", \"Topic3\", \"Topic3\", \"Topic3\", \"Topic3\", \"Topic3\", \"Topic3\", \"Topic3\", \"Topic3\", \"Topic3\", \"Topic3\", \"Topic3\", \"Topic3\", \"Topic3\", \"Topic3\", \"Topic3\", \"Topic3\", \"Topic3\", \"Topic3\", \"Topic3\", \"Topic3\", \"Topic3\", \"Topic3\", \"Topic3\", \"Topic3\", \"Topic3\", \"Topic3\", \"Topic3\", \"Topic3\", \"Topic3\", \"Topic3\", \"Topic3\", \"Topic3\", \"Topic3\", \"Topic3\", \"Topic3\", \"Topic4\", \"Topic4\", \"Topic4\", \"Topic4\", \"Topic4\", \"Topic4\", \"Topic4\", \"Topic4\", \"Topic4\", \"Topic4\", \"Topic4\", \"Topic4\", \"Topic4\", \"Topic4\", \"Topic4\", \"Topic4\", \"Topic4\", \"Topic4\", \"Topic4\", \"Topic4\", \"Topic4\", \"Topic4\", \"Topic4\", \"Topic4\", \"Topic4\", \"Topic4\", \"Topic4\", \"Topic4\", \"Topic4\", \"Topic4\", \"Topic4\", \"Topic4\", \"Topic4\", \"Topic4\", \"Topic4\", \"Topic4\", \"Topic4\", \"Topic4\", \"Topic4\", \"Topic4\", \"Topic4\", \"Topic4\", \"Topic4\", \"Topic4\", \"Topic4\", \"Topic4\", \"Topic4\", \"Topic4\", \"Topic4\", \"Topic4\", \"Topic4\", \"Topic4\", \"Topic4\", \"Topic4\", \"Topic4\", \"Topic4\", \"Topic4\", \"Topic4\", \"Topic4\", \"Topic4\", \"Topic4\", \"Topic4\", \"Topic4\"], \"Freq\": [24.0, 105.0, 14.0, 18.0, 18.0, 11.0, 19.0, 21.0, 14.0, 18.0, 10.0, 13.0, 8.0, 28.0, 14.0, 13.0, 26.0, 14.0, 17.0, 6.0, 13.0, 6.0, 7.0, 13.0, 12.0, 16.0, 15.0, 23.0, 18.0, 4.0, 18.051307678222656, 8.305864334106445, 4.412364959716797, 4.256661415100098, 7.1706647872924805, 11.24357795715332, 3.503873109817505, 4.751255989074707, 8.159103393554688, 8.144413948059082, 4.70306921005249, 4.073128700256348, 8.05309009552002, 5.261730670928955, 3.278465509414673, 9.755800247192383, 1.2772603034973145, 1.2770780324935913, 1.275961995124817, 1.2749682664871216, 1.2742067575454712, 1.273193120956421, 1.2723159790039062, 1.2722375392913818, 1.2716310024261475, 1.2710025310516357, 1.2707979679107666, 1.2705904245376587, 1.2697272300720215, 1.2690067291259766, 6.99693489074707, 16.586776733398438, 3.7498626708984375, 2.5116355419158936, 4.331699848175049, 5.411787986755371, 4.833903789520264, 6.947343349456787, 2.445530891418457, 10.421640396118164, 59.616783142089844, 2.4132540225982666, 2.936821222305298, 9.54866886138916, 15.037142753601074, 3.4883205890655518, 8.015392303466797, 10.715027809143066, 11.577956199645996, 10.978156089782715, 9.549732208251953, 16.548940658569336, 6.966744422912598, 10.606245040893555, 13.909809112548828, 10.916572570800781, 11.098196983337402, 7.0181884765625, 7.367491245269775, 9.988167762756348, 7.202726364135742, 8.208674430847168, 7.511627197265625, 7.084949970245361, 5.463882923126221, 2.889862298965454, 4.3930463790893555, 4.07321834564209, 4.202271938323975, 3.5824856758117676, 1.7668616771697998, 1.7537353038787842, 6.8299713134765625, 2.198249101638794, 1.6945888996124268, 1.692049264907837, 1.7169687747955322, 3.035144805908203, 2.9535787105560303, 2.203655242919922, 4.523266792297363, 1.2487772703170776, 1.2513633966445923, 2.0544028282165527, 2.0429818630218506, 1.635108232498169, 1.2163424491882324, 2.785686492919922, 1.2090117931365967, 8.17128849029541, 2.0578672885894775, 2.873789072036743, 2.1043801307678223, 1.1849925518035889, 2.472538948059082, 7.980612754821777, 9.672157287597656, 6.487694263458252, 3.8026390075683594, 8.227540016174316, 30.912586212158203, 4.124680519104004, 5.151910305023193, 9.154692649841309, 6.295270919799805, 8.553853034973145, 4.198177337646484, 4.1246819496154785, 3.4294660091400146, 4.558570384979248, 10.428691864013672, 5.703956127166748, 6.428988933563232, 7.8935699462890625, 5.105910301208496, 7.287836074829102, 5.118882179260254, 7.538853168487549, 5.477229118347168, 6.482174396514893, 4.82303524017334, 4.721271991729736, 4.457122325897217, 4.491020202636719, 4.596745491027832, 4.485195159912109, 3.0642237663269043, 2.451230525970459, 1.9089739322662354, 1.9024665355682373, 2.3082399368286133, 1.3952759504318237, 1.8490781784057617, 1.3794183731079102, 1.321670413017273, 1.3041529655456543, 1.7001843452453613, 1.2803295850753784, 8.009515762329102, 1.932403564453125, 0.7733814120292664, 0.7674758434295654, 7.3680315017700195, 0.7645118236541748, 1.9162421226501465, 1.1370961666107178, 0.7606461644172668, 2.2686352729797363, 0.7625336647033691, 0.7576473355293274, 0.7572886943817139, 0.753522515296936, 6.7344889640808105, 0.7530803680419922, 0.7539102435112, 0.7495620250701904, 3.338550090789795, 1.7911155223846436, 6.387712478637695, 3.5479531288146973, 10.881328582763672, 4.653158187866211, 1.7630001306533813, 6.9228949546813965, 2.8223040103912354, 1.3944647312164307, 2.081284761428833, 1.8088419437408447, 4.618677139282227, 4.50290060043335, 6.411649227142334, 2.8546454906463623, 9.768575668334961, 3.7261745929718018, 6.2043776512146, 5.447580337524414, 6.244129657745361, 5.09236478805542, 5.116705894470215, 5.867816925048828, 4.136534214019775, 4.1524553298950195, 3.5378077030181885, 4.026288986206055, 3.697789192199707, 7.4764933586120605, 4.2292022705078125, 12.475934028625488, 5.844698905944824, 6.649938583374023, 4.624037265777588, 4.617000579833984, 4.440141201019287, 4.240161418914795, 4.868195533752441, 4.696497440338135, 4.412058353424072, 4.2657084465026855, 1.92888343334198, 1.8582565784454346, 2.2019829750061035, 0.9861705303192139, 2.7339859008789062, 0.9057850241661072, 1.185416340827942, 0.5789214372634888, 0.5765472650527954, 1.1214474439620972, 0.5637469291687012, 0.5610962510108948, 0.5614227652549744, 0.557746171951294, 0.5526111721992493, 0.554130494594574, 0.5487453937530518, 0.5437835454940796, 1.3474886417388916, 0.540612518787384, 0.5380136370658875, 2.6564226150512695, 0.5368810892105103, 0.53177809715271, 0.5311712026596069, 1.0395712852478027, 0.5192665457725525, 0.7678086757659912, 0.7896713614463806, 1.014528512954712, 2.51399827003479, 3.8987417221069336, 3.065809726715088, 1.4591166973114014, 5.866191387176514, 5.385378360748291, 3.9486629962921143, 3.821413040161133, 1.9995801448822021, 3.5316081047058105, 4.7045440673828125, 1.1630723476409912, 5.459287166595459, 5.6480793952941895, 2.734898328781128, 3.4046523571014404, 2.712165355682373, 3.5181281566619873, 3.7201952934265137, 2.3726418018341064, 3.7272090911865234, 5.594629287719727, 4.7305755615234375, 2.711911916732788, 4.992807388305664, 3.5180251598358154, 2.177278757095337, 3.7668864727020264, 2.976057291030884, 2.7685673236846924, 2.5422873497009277, 2.5467336177825928, 2.4458258152008057], \"Term\": [\"main\", \"persen\", \"balap\", \"lapor\", \"novel\", \"argentina\", \"polisi\", \"indeks\", \"menang\", \"tanding\", \"vettel\", \"aman\", \"kroasia\", \"dunia\", \"belanja\", \"salah\", \"duga\", \"golf\", \"lawan\", \"messi\", \"rusia\", \"indra\", \"mudik\", \"baik\", \"korban\", \"piala\", \"jenderal\", \"diskon\", \"hasil\", \"herman\", \"indeks\", \"bantu\", \"miskin\", \"mohammadi\", \"gerak\", \"saham\", \"pkh\", \"iran\", \"turun\", \"keluarga\", \"lempar\", \"jual\", \"tni\", \"spanyol\", \"mayoritas\", \"anggota\", \"rp1 94\", \"rti\", \"sektoral\", \"anjlok\", \"investing com\", \"nikkei225\", \"reguler\", \"sell\", \"korsel\", \"agi bir\", \"buku\", \"sore\", \"ihsg\", \"rp12 78\", \"tawar\", \"diskon\", \"setyo\", \"kisar\", \"guess\", \"manfaat\", \"gerai\", \"juta\", \"cac\", \"dagang\", \"persen\", \"salto\", \"portugal\", \"kuat\", \"lemah\", \"jepang\", \"tusuk\", \"minus\", \"laku\", \"oknum\", \"naik\", \"jakarta\", \"usaha\", \"dolar\", \"indonesia\", \"uang\", \"cnn\", \"polri\", \"lebaran\", \"dunia\", \"terima\", \"duga\", \"polisi\", \"namun\", \"mudik\", \"neraka\", \"teroris\", \"habiburokhman\", \"tangkap\", \"danick\", \"bohong\", \"no\", \"vettel\", \"syahar\", \"arus\", \"ri\", \"bekuk\", \"makan\", \"empat\", \"first\", \"hamilton\", \"konkret\", \"macet\", \"urut\", \"sopir\", \"finish\", \"bareskrim\", \"podium\", \"ujar\", \"balap\", \"f\", \"ayat\", \"travel\", \"merak\", \"kuhp\", \"belanja\", \"lapor\", \"pasal\", \"jaksa\", \"hasil\", \"persen\", \"serap\", \"raih\", \"uang\", \"triliun\", \"dolar\", \"pagu\", \"sidang\", \"k l\", \"tabung\", \"indonesia\", \"orang\", \"minus\", \"duga\", \"capai\", \"lemah\", \"as\", \"jakarta\", \"posisi\", \"cnn\", \"rumah\", \"kait\", \"mata\", \"jalan\", \"bunga\", \"catat\", \"mcilroy\", \"darmin\", \"spieth\", \"trofi\", \"generasi\", \"fowler\", \"basis\", \"surrey\", \"tukas\", \"bakat\", \"khawatir\", \"fomc\", \"menang\", \"saudi\", \"flordia\", \"jordan\", \"golf\", \"ryder\", \"muda\", \"pga\", \"major\", \"usia\", \"maret\", \"nasution\", \"wgc\", \"kurun\", \"rusia\", \"koordinator\", \"januari\", \"champions\", \"uruguay\", \"duel\", \"baik\", \"turnamen\", \"main\", \"juara\", \"arab\", \"piala\", \"level\", \"novgorod\", \"mesir\", \"walaupun\", \"argentina\", \"tampil\", \"saya\", \"stenson\", \"dunia\", \"kroasia\", \"lawan\", \"kerja\", \"poin\", \"timnas\", \"catat\", \"tanding\", \"acu\", \"suku\", \"pada\", \"grup\", \"rita\", \"indonesia\", \"rupiah\", \"persen\", \"cnn\", \"jakarta\", \"bunga\", \"naik\", \"menteri\", \"belanja\", \"duga\", \"diskon\", \"novel\", \"triliun\", \"menindaklanjuti\", \"ronny\", \"herman\", \"asas\", \"indra\", \"yuniarto\", \"kumpul\", \"ajudan\", \"arteri\", \"praduga\", \"rerhadap\", \"mapolres\", \"komentar\", \"febby\", \"pdip\", \"pondok\", \"kata\", \"tindaklanjuti\", \"rakitic\", \"follow\", \"polantas\", \"messi\", \"tilang\", \"situ\", \"sagita\", \"hery\", \"lidi\", \"visum\", \"aparat\", \"nigeria\", \"saksi\", \"argentina\", \"kroasia\", \"pukul\", \"polisi\", \"novel\", \"salah\", \"aman\", \"depan\", \"korban\", \"tanding\", \"sampaoli\", \"main\", \"duga\", \"hukum\", \"balap\", \"kalah\", \"jenderal\", \"lawan\", \"keroyok\", \"lapor\", \"jakarta\", \"dunia\", \"kami\", \"indonesia\", \"oknum\", \"aksi\", \"cnn\", \"laku\", \"hasil\", \"kait\", \"saya\", \"timnas\"], \"Total\": [24.0, 105.0, 14.0, 18.0, 18.0, 11.0, 19.0, 21.0, 14.0, 18.0, 10.0, 13.0, 8.0, 28.0, 14.0, 13.0, 26.0, 14.0, 17.0, 6.0, 13.0, 6.0, 7.0, 13.0, 12.0, 16.0, 15.0, 23.0, 18.0, 4.0, 21.712718963623047, 10.270064353942871, 5.555044651031494, 5.479984283447266, 9.25108814239502, 14.63758373260498, 4.567284107208252, 6.29000186920166, 10.882668495178223, 10.869576454162598, 6.282455921173096, 5.448549747467041, 10.812692642211914, 7.129847049713135, 4.491330146789551, 13.435087203979492, 1.7803062200546265, 1.7802022695541382, 1.779765009880066, 1.7793676853179932, 1.7790521383285522, 1.7787895202636719, 1.7784241437911987, 1.7785334587097168, 1.7781572341918945, 1.777976393699646, 1.777972936630249, 1.7779022455215454, 1.777492880821228, 1.7772427797317505, 9.830394744873047, 23.95762062072754, 5.310880661010742, 3.5562565326690674, 6.2246012687683105, 7.912247657775879, 7.068276882171631, 10.437825202941895, 3.52561092376709, 16.439090728759766, 105.33106231689453, 3.491258382797241, 4.317112922668457, 15.377342224121094, 25.365015029907227, 5.234380722045898, 13.43908405303955, 19.117624282836914, 21.31583595275879, 20.432146072387695, 17.551061630249023, 36.332359313964844, 12.485737800598145, 23.84630012512207, 36.80780029296875, 25.847412109375, 27.191957473754883, 13.053915023803711, 14.62337875366211, 28.932830810546875, 15.254142761230469, 26.618518829345703, 19.616849899291992, 17.160995483398438, 7.471665859222412, 4.097732067108154, 6.274424076080322, 6.076259136199951, 6.325118064880371, 5.441646099090576, 2.7621846199035645, 2.7621912956237793, 10.810117721557617, 3.5487399101257324, 2.769733190536499, 2.7737622261047363, 2.828726053237915, 5.008271217346191, 4.889524459838867, 3.6552562713623047, 7.507586479187012, 2.085081100463867, 2.089590072631836, 3.4369707107543945, 3.4430348873138428, 2.772016763687134, 2.088125705718994, 4.814373970031738, 2.0918209552764893, 14.192401885986328, 3.59785532951355, 5.025986671447754, 3.7064671516418457, 2.0903851985931396, 4.423067092895508, 14.810636520385742, 18.510112762451172, 12.246576309204102, 7.461511135101318, 18.612064361572266, 105.33106231689453, 8.723294258117676, 11.885133743286133, 25.847412109375, 15.710530281066895, 23.84630012512207, 9.269233703613281, 9.076725959777832, 7.108132839202881, 10.859467506408691, 36.80780029296875, 15.134674072265625, 19.117624282836914, 26.618518829345703, 13.531908988952637, 25.365015029907227, 15.021520614624023, 36.332359313964844, 17.549423217773438, 27.191957473754883, 14.320524215698242, 15.045238494873047, 12.317310333251953, 13.438982009887695, 16.618844985961914, 15.035266876220703, 4.328559398651123, 3.655323028564453, 2.9006834030151367, 2.912187099456787, 3.5770530700683594, 2.18449330329895, 2.9071855545043945, 2.1763980388641357, 2.1968131065368652, 2.2071101665496826, 2.88875412940979, 2.205706834793091, 14.23619556427002, 3.645617961883545, 1.46895170211792, 1.4692275524139404, 14.134676933288574, 1.4670220613479614, 3.6893668174743652, 2.1959242820739746, 1.4705257415771484, 4.38810920715332, 1.475918173789978, 1.4684895277023315, 1.467803955078125, 1.4694297313690186, 13.160578727722168, 1.4717509746551514, 1.4742406606674194, 1.466500997543335, 6.584384441375732, 3.625434637069702, 13.662013053894043, 7.492990970611572, 24.460718154907227, 10.163949966430664, 3.666506290435791, 16.32227897644043, 6.15183687210083, 2.8429887294769287, 4.459428310394287, 3.8096730709075928, 11.06371784210205, 10.751192092895508, 16.509931564331055, 6.459429740905762, 28.932830810546875, 8.956012725830078, 17.44382667541504, 15.008096694946289, 19.13862419128418, 14.76720142364502, 15.035266876220703, 18.65199089050293, 11.1491117477417, 11.216597557067871, 8.824377059936523, 10.90803337097168, 9.848255157470703, 36.80780029296875, 12.849145889282227, 105.33106231689453, 27.191957473754883, 36.332359313964844, 16.618844985961914, 17.551061630249023, 15.81252670288086, 14.810636520385742, 26.618518829345703, 23.95762062072754, 18.151737213134766, 15.710530281066895, 3.3315577507019043, 3.340648651123047, 4.005255222320557, 2.0455431938171387, 6.164387226104736, 2.0554585456848145, 2.7257142066955566, 1.395902156829834, 1.3952581882476807, 2.725635290145874, 1.4010111093521118, 1.3974528312683105, 1.402226448059082, 1.4057416915893555, 1.3983166217803955, 1.4046928882598877, 1.4036884307861328, 1.3983148336410522, 3.4833261966705322, 1.4002830982208252, 1.4011685848236084, 6.945992946624756, 1.4067631959915161, 1.4035162925720215, 1.4033185243606567, 2.7572388648986816, 1.4083235263824463, 2.084341526031494, 2.157419443130493, 2.7964065074920654, 6.932535171508789, 11.06371784210205, 8.956012725830078, 4.151897430419922, 19.616849899291992, 18.151737213134766, 13.316858291625977, 13.36456298828125, 6.341282844543457, 12.356048583984375, 18.65199089050293, 3.5002803802490234, 24.460718154907227, 26.618518829345703, 10.627948760986328, 14.192401885986328, 10.761648178100586, 15.559322357177734, 17.44382667541504, 9.451570510864258, 18.510112762451172, 36.332359313964844, 28.932830810546875, 12.209455490112305, 36.80780029296875, 20.432146072387695, 8.621882438659668, 27.191957473754883, 21.31583595275879, 18.612064361572266, 15.045238494873047, 16.509931564331055, 14.76720142364502], \"loglift\": [30.0, 29.0, 28.0, 27.0, 26.0, 25.0, 24.0, 23.0, 22.0, 21.0, 20.0, 19.0, 18.0, 17.0, 16.0, 15.0, 14.0, 13.0, 12.0, 11.0, 10.0, 9.0, 8.0, 7.0, 6.0, 5.0, 4.0, 3.0, 2.0, 1.0, 0.7631999850273132, 0.7355999946594238, 0.7175999879837036, 0.6952000260353088, 0.6930999755859375, 0.6840999722480774, 0.6827999949455261, 0.6672999858856201, 0.6597999930381775, 0.6592000126838684, 0.65829998254776, 0.6568999886512756, 0.6531999707221985, 0.6439999938011169, 0.6330999732017517, 0.6277999877929688, 0.6158000230789185, 0.6157000064849854, 0.6151000261306763, 0.6144999861717224, 0.6140999794006348, 0.6133999824523926, 0.6129999756813049, 0.6128000020980835, 0.6126000285148621, 0.6122000217437744, 0.6119999885559082, 0.6118999719619751, 0.6115000247955322, 0.6110000014305115, 0.6078000068664551, 0.5802000164985657, 0.5997999906539917, 0.6000999808311462, 0.5853000283241272, 0.5680000185966492, 0.5679000020027161, 0.5407999753952026, 0.582099974155426, 0.4921000003814697, 0.37869998812675476, 0.5785999894142151, 0.5626000165939331, 0.4713999927043915, 0.42500001192092896, 0.5419999957084656, 0.4311000108718872, 0.36890000104904175, 0.3375000059604645, 0.32670000195503235, 0.3393000066280365, 0.1615000069141388, 0.3643999993801117, 0.13770000636577606, -0.025299999862909317, 0.08590000122785568, 0.05169999971985817, 0.3273000121116638, 0.2623000144958496, -0.11569999903440475, 0.19750000536441803, -0.22859999537467957, -0.01209999993443489, 0.06319999694824219, 1.0627000331878662, 1.0264999866485596, 1.0191999673843384, 0.9757000207901001, 0.9667999744415283, 0.9577000141143799, 0.9289000034332275, 0.9214000105857849, 0.9164999723434448, 0.8967000246047974, 0.8844000101089478, 0.8813999891281128, 0.8763999938964844, 0.8748000264167786, 0.8715999722480774, 0.8695999979972839, 0.8690000176429749, 0.8629999756813049, 0.8629000186920166, 0.8611000180244446, 0.8536999821662903, 0.8478000164031982, 0.8353000283241272, 0.8285999894142151, 0.8274000287055969, 0.8235999941825867, 0.8169999718666077, 0.8166999816894531, 0.8095999956130981, 0.8080999851226807, 0.7940999865531921, 0.7573000192642212, 0.7265999913215637, 0.7402999997138977, 0.7016000151634216, 0.5594000220298767, 0.14970000088214874, 0.6266999840736389, 0.5397999882698059, 0.3377000093460083, 0.4611000120639801, 0.35040000081062317, 0.5835999846458435, 0.5870000123977661, 0.6467999815940857, 0.5076000094413757, 0.1145000010728836, 0.39980000257492065, 0.2858999967575073, 0.16009999811649323, 0.4009999930858612, 0.12849999964237213, 0.29910001158714294, -0.19699999690055847, 0.21130000054836273, -0.05820000171661377, 0.2874000072479248, 0.2167000025510788, 0.35920000076293945, 0.27959999442100525, 0.09049999713897705, 0.16609999537467957, 1.170699954032898, 1.1166000366210938, 1.0978000164031982, 1.090399980545044, 1.0780999660491943, 1.0678999423980713, 1.0636999607086182, 1.0600999593734741, 1.0080000162124634, 0.9900000095367432, 0.9861000180244446, 0.9721999764442444, 0.9409999847412109, 0.8813999891281128, 0.8745999932289124, 0.8668000102043152, 0.8647000193595886, 0.8644000291824341, 0.8611000180244446, 0.8579999804496765, 0.8569999933242798, 0.8564000129699707, 0.8557999730110168, 0.8543999791145325, 0.8543999791145325, 0.8482999801635742, 0.8461999893188477, 0.8460999727249146, 0.8454999923706055, 0.8450000286102295, 0.8370000123977661, 0.8109999895095825, 0.7559000253677368, 0.7685999870300293, 0.7060999870300293, 0.7348999977111816, 0.7839000225067139, 0.6585000157356262, 0.7369999885559082, 0.8037999868392944, 0.7541000247001648, 0.7713000178337097, 0.6425999999046326, 0.6459000110626221, 0.5702999830245972, 0.6995999813079834, 0.430400013923645, 0.63919997215271, 0.48240000009536743, 0.5026999711990356, 0.3961000144481659, 0.4514999985694885, 0.4383000135421753, 0.3596999943256378, 0.5246999859809875, 0.5224999785423279, 0.6021000146865845, 0.5195000171661377, 0.5365999937057495, -0.07779999822378159, 0.4049000144004822, -0.6171000003814697, -0.021199999377131462, -0.1818999946117401, 0.23690000176429749, 0.18080000579357147, 0.2460000067949295, 0.2653999924659729, -0.1826999932527542, -0.11330000311136246, 0.10170000046491623, 0.21240000426769257, 1.4180999994277954, 1.378100037574768, 1.3664000034332275, 1.2351000308990479, 1.1516000032424927, 1.1452000141143799, 1.1319999694824219, 1.0844999551773071, 1.080899953842163, 1.0765999555587769, 1.0542999505996704, 1.0520999431610107, 1.049299955368042, 1.0401999950408936, 1.0362999439239502, 1.034500002861023, 1.0254000425338745, 1.0202000141143799, 1.0148999691009521, 1.0128999948501587, 1.0075000524520874, 1.003499984741211, 1.0013999938964844, 0.9940999746322632, 0.9930999875068665, 0.9891999959945679, 0.9668999910354614, 0.9660000205039978, 0.9595999717712402, 0.9506999850273132, 0.9502999782562256, 0.9215999841690063, 0.8925999999046326, 0.9189000129699707, 0.7574999928474426, 0.7495999932289124, 0.7490000128746033, 0.7127000093460083, 0.8105000257492065, 0.7123000025749207, 0.5871999859809875, 0.8629000186920166, 0.4648999869823456, 0.41440001130104065, 0.6072999835014343, 0.5371000170707703, 0.5863999724388123, 0.4778999984264374, 0.41940000653266907, 0.5824999809265137, 0.3619999885559082, 0.09369999915361404, 0.15369999408721924, 0.460099995136261, -0.03310000151395798, 0.2054000049829483, 0.5884000062942505, -0.012000000104308128, -0.00419999985024333, 0.05920000001788139, 0.186599999666214, 0.09549999982118607, 0.16660000383853912], \"logprob\": [30.0, 29.0, 28.0, 27.0, 26.0, 25.0, 24.0, 23.0, 22.0, 21.0, 20.0, 19.0, 18.0, 17.0, 16.0, 15.0, 14.0, 13.0, 12.0, 11.0, 10.0, 9.0, 8.0, 7.0, 6.0, 5.0, 4.0, 3.0, 2.0, 1.0, -4.916100025177002, -5.692299842834473, -6.324900150299072, -6.360799789428711, -5.839300155639648, -5.389500141143799, -6.5553998947143555, -6.250899791717529, -5.71019983291626, -5.711999893188477, -6.261099815368652, -6.404900074005127, -5.723199844360352, -6.148799896240234, -6.6219000816345215, -5.531400203704834, -7.564599990844727, -7.564700126647949, -7.5655999183654785, -7.566400051116943, -7.566999912261963, -7.567800045013428, -7.56850004196167, -7.56850004196167, -7.568999767303467, -7.569499969482422, -7.569699764251709, -7.569799900054932, -7.570499897003174, -7.571100234985352, -5.863800048828125, -5.000699996948242, -6.487599849700928, -6.888400077819824, -6.343299865722656, -6.120699882507324, -6.23360013961792, -5.8709001541137695, -6.914999961853027, -5.465400218963623, -3.721400022506714, -6.928299903869629, -6.73199987411499, -5.5528998374938965, -5.098800182342529, -6.559899806976318, -5.72790002822876, -5.437699794769287, -5.360199928283691, -5.413400173187256, -5.552800178527832, -5.002999782562256, -5.868199825286865, -5.44789981842041, -5.176700115203857, -5.419000148773193, -5.402500152587891, -5.860799789428711, -5.81220006942749, -5.507900238037109, -5.834799766540527, -5.704100131988525, -5.792799949645996, -5.85129976272583, -5.683300018310547, -6.320300102233887, -5.901500225067139, -5.9770002365112305, -5.945899963378906, -6.105400085449219, -6.812300205230713, -6.819699764251709, -5.46019983291626, -6.593800067901611, -6.854000091552734, -6.855500221252441, -6.84089994430542, -6.271200180053711, -6.298500061035156, -6.591400146484375, -5.872200012207031, -7.159299850463867, -7.157199859619141, -6.661499977111816, -6.667099952697754, -6.889800071716309, -7.1855998039245605, -6.35699987411499, -7.191699981689453, -5.280900001525879, -6.659800052642822, -6.325799942016602, -6.637499809265137, -7.211699962615967, -6.476200103759766, -5.304500102996826, -5.112199783325195, -5.511600017547607, -6.04580020904541, -5.27400016784668, -3.9502999782562256, -5.9644999504089355, -5.742099761962891, -5.167200088500977, -5.5416998863220215, -5.235099792480469, -5.946800231933594, -5.9644999504089355, -6.149099826812744, -5.864500045776367, -5.036900043487549, -5.6402997970581055, -5.520699977874756, -5.315400123596191, -5.751100063323975, -5.395299911499023, -5.748499870300293, -5.361400127410889, -5.6809000968933105, -5.512400150299072, -5.80810022354126, -5.829400062561035, -5.88700008392334, -5.87939977645874, -5.856100082397461, -5.88070011138916, -6.121200084686279, -6.344399929046631, -6.594399929046631, -6.597799777984619, -6.4045000076293945, -6.907899856567383, -6.626299858093262, -6.919300079345703, -6.962100028991699, -6.975399971008301, -6.710299968719482, -6.993899822235107, -5.160399913787842, -6.582200050354004, -7.498000144958496, -7.5055999755859375, -5.243800163269043, -7.509500026702881, -6.59060001373291, -7.112500190734863, -7.514599800109863, -6.421800136566162, -7.5121002197265625, -7.518499851226807, -7.519000053405762, -7.52400016784668, -5.333799839019775, -7.524600028991699, -7.523499965667725, -7.529300212860107, -6.0355000495910645, -6.658199787139893, -5.386600017547607, -5.974599838256836, -4.853899955749512, -5.703400135040283, -6.673999786376953, -5.30620002746582, -6.203400135040283, -6.9085001945495605, -6.507999897003174, -6.6483001708984375, -5.710899829864502, -5.736299991607666, -5.382900238037109, -6.191999912261963, -4.9618000984191895, -5.925600051879883, -5.4156999588012695, -5.54580020904541, -5.40939998626709, -5.61329984664917, -5.608500003814697, -5.471499919891357, -5.821100234985352, -5.817299842834473, -5.977499961853027, -5.848199844360352, -5.933300018310547, -5.2291998863220215, -5.798999786376953, -4.717199802398682, -5.475500106811523, -5.346399784088135, -5.709700107574463, -5.711299896240234, -5.75029993057251, -5.79640007019043, -5.658299922943115, -5.694200038909912, -5.756700038909912, -5.79040002822876, -6.1356000900268555, -6.172900199890137, -6.003200054168701, -6.806399822235107, -5.786799907684326, -6.891499996185303, -6.622399806976318, -7.339099884033203, -7.343200206756592, -6.6778998374938965, -7.365699768066406, -7.3703999519348145, -7.369800090789795, -7.376399993896484, -7.3856000900268555, -7.382900238037109, -7.392600059509277, -7.401700019836426, -6.49429988861084, -7.407599925994873, -7.412399768829346, -5.815499782562256, -7.4145002365112305, -7.423999786376953, -7.42519998550415, -6.753699779510498, -7.447800159454346, -7.056700229644775, -7.028600215911865, -6.77810001373291, -5.87060022354126, -5.4319000244140625, -5.6722002029418945, -6.414700031280518, -5.0233001708984375, -5.108799934387207, -5.419099807739258, -5.451900005340576, -6.099599838256836, -5.530799865722656, -5.24399995803833, -6.64139986038208, -5.095200061798096, -5.061200141906738, -5.786399841308594, -5.567399978637695, -5.7947998046875, -5.534599781036377, -5.478700160980225, -5.928500175476074, -5.476900100708008, -5.070700168609619, -5.238500118255615, -5.794899940490723, -5.184500217437744, -5.534599781036377, -6.014400005340576, -5.466300010681152, -5.701900005340576, -5.774199962615967, -5.859399795532227, -5.857699871063232, -5.898099899291992]}, \"token.table\": {\"Topic\": [1, 2, 3, 4, 1, 4, 1, 2, 3, 4, 1, 2, 3, 4, 1, 2, 3, 4, 1, 1, 4, 1, 2, 3, 1, 2, 3, 4, 4, 2, 1, 2, 3, 4, 4, 1, 2, 4, 1, 2, 3, 4, 3, 1, 2, 3, 4, 1, 2, 2, 3, 1, 2, 1, 2, 3, 4, 2, 1, 1, 2, 3, 1, 2, 1, 2, 3, 4, 1, 2, 3, 4, 3, 1, 2, 3, 4, 1, 2, 3, 2, 3, 4, 1, 3, 1, 2, 3, 4, 1, 2, 3, 4, 1, 2, 3, 4, 1, 2, 3, 1, 2, 3, 4, 1, 2, 3, 4, 1, 2, 3, 4, 1, 2, 4, 2, 1, 2, 3, 4, 3, 3, 3, 4, 1, 3, 1, 3, 1, 2, 3, 4, 1, 2, 3, 4, 1, 3, 2, 3, 4, 1, 2, 3, 4, 1, 2, 3, 4, 1, 2, 4, 2, 4, 1, 2, 3, 4, 1, 1, 2, 3, 1, 2, 3, 4, 1, 2, 3, 4, 1, 1, 4, 1, 2, 3, 4, 1, 2, 4, 1, 2, 3, 4, 3, 1, 2, 3, 4, 1, 2, 3, 1, 3, 1, 2, 3, 4, 1, 2, 3, 4, 1, 2, 3, 4, 1, 2, 3, 4, 1, 2, 3, 4, 1, 2, 3, 4, 4, 1, 2, 3, 1, 2, 3, 4, 1, 2, 3, 4, 3, 1, 4, 2, 3, 1, 2, 3, 4, 1, 1, 2, 3, 4, 1, 2, 3, 4, 1, 2, 2, 4, 3, 1, 2, 3, 4, 1, 2, 3, 4, 1, 2, 3, 4, 1, 2, 3, 4, 1, 2, 3, 1, 3, 4, 1, 2, 3, 4, 2, 1, 2, 3, 4, 3, 1, 2, 1, 2, 3, 4, 4, 3, 1, 2, 3, 4, 1, 2, 1, 3, 1, 2, 3, 4, 2, 4, 1, 2, 3, 4, 2, 1, 2, 3, 1, 2, 3, 4, 1, 2, 3, 1, 2, 1, 4, 1, 2, 3, 1, 2, 3, 4, 1, 2, 3, 4, 1, 2, 3, 4, 3, 2, 3, 4, 1, 2, 1, 2, 3, 4, 3, 4, 1, 2, 3, 4, 1, 2, 3, 4, 1, 2, 3, 4, 1, 2, 3, 4, 1, 2, 3, 4, 4, 1, 2, 3, 4, 3, 1, 2, 3, 4, 1, 2, 1, 2, 3, 4, 1, 2, 3, 4, 4, 1, 2, 3, 4, 1, 2, 3, 4, 4, 1, 4, 1, 2, 3, 4, 2, 4, 1, 2, 3, 4, 1, 2, 3, 4, 1, 3, 4, 1, 4, 2, 1, 2, 3, 4, 2, 4, 1, 1, 1, 1, 2, 3, 4, 1, 2, 3, 1, 2, 3, 4, 3, 4, 1, 2, 3, 1, 2, 3, 4, 1, 2, 3, 4, 1, 4, 1, 3, 4, 1, 2, 3, 1, 2, 3, 4, 1, 1, 1, 2, 3, 4, 1, 2, 1, 2, 4, 4, 2, 3, 1, 1, 3, 4, 3, 1, 2, 3, 4, 1, 2, 3, 3, 1, 2, 1, 2, 3, 4, 1, 2, 3, 4, 1, 2, 3, 4, 1, 2, 3, 4, 1, 2, 3, 4, 1, 2, 3, 4, 1, 2, 4, 4, 1, 2, 3, 4, 4, 1, 2, 3, 4, 1, 2, 1, 2, 3, 4, 3, 3, 1, 2, 3, 4, 1, 2, 3, 1, 2, 3, 4, 1, 2, 3, 4, 2, 1, 2, 3, 2, 4, 1, 2, 3, 4, 1, 2, 3, 4, 1, 2, 3, 4, 2, 4, 1, 2, 3, 3, 2, 4], \"Freq\": [0.4484662115573883, 0.17938648164272308, 0.35877296328544617, 0.08969324082136154, 0.5624371767044067, 0.7163825631141663, 0.46393582224845886, 0.11598395556211472, 0.23196791112422943, 0.23196791112422943, 0.523773193359375, 0.1496494859457016, 0.0748247429728508, 0.2992989718914032, 0.7443196773529053, 0.14886394143104553, 0.07443197071552277, 0.07443197071552277, 0.5619974136352539, 0.4635167419910431, 0.4635167419910431, 0.2727392017841339, 0.2727392017841339, 0.5454784035682678, 0.09038552641868591, 0.09038552641868591, 0.45192766189575195, 0.36154210567474365, 0.7167132496833801, 0.7220911979675293, 0.3994269371032715, 0.33285579085350037, 0.19971346855163574, 0.06657115370035172, 0.48886770009994507, 0.1989659070968628, 0.5968977212905884, 0.1989659070968628, 0.14639131724834442, 0.21958696842193604, 0.43917393684387207, 0.14639131724834442, 0.4530811309814453, 0.0704602375626564, 0.5636819005012512, 0.0704602375626564, 0.2113807052373886, 0.7789629697799683, 0.09737037122249603, 0.47889837622642517, 0.687950611114502, 0.3535160422325134, 0.7070320844650269, 0.1350380927324295, 0.540152370929718, 0.270076185464859, 0.06751904636621475, 0.7240645885467529, 0.5624382495880127, 0.42120856046676636, 0.30086326599121094, 0.30086326599121094, 0.5672775506973267, 0.28363877534866333, 0.2955976128578186, 0.36949703097343445, 0.2955976128578186, 0.07389940321445465, 0.2660411596298218, 0.2660411596298218, 0.3325514495372772, 0.06651028990745544, 0.6818951964378357, 0.4045313894748688, 0.2206534743309021, 0.2206534743309021, 0.14710232615470886, 0.6083061695098877, 0.18249183893203735, 0.18249183893203735, 0.7350717186927795, 0.18376792967319489, 0.18376792967319489, 0.273573637008667, 0.547147274017334, 0.15769679844379425, 0.3153935968875885, 0.15769679844379425, 0.3153935968875885, 0.7095863223075867, 0.04174037277698517, 0.20870186388492584, 0.08348074555397034, 0.4612874984741211, 0.37741702795028687, 0.16774091124534607, 0.04193522781133652, 0.2758289873600006, 0.2758289873600006, 0.5516579747200012, 0.3005426526069641, 0.3005426526069641, 0.18783915042877197, 0.22540698945522308, 0.34562811255455017, 0.13825124502182007, 0.34562811255455017, 0.17281405627727509, 0.2045188695192337, 0.6135566234588623, 0.2045188695192337, 0.2045188695192337, 0.27794337272644043, 0.5558867454528809, 0.7113682627677917, 0.7214963436126709, 0.2735786437988281, 0.5471572875976562, 0.6807575821876526, 0.714141309261322, 0.4533694088459015, 0.45777204632759094, 0.559119462966919, 0.2795597314834595, 0.7073859572410583, 0.14147719740867615, 0.7566677331924438, 0.10809539258480072, 0.2122439742088318, 0.1414959877729416, 0.49523594975471497, 0.0707479938864708, 0.36670222878456116, 0.18335111439228058, 0.36670222878456116, 0.09167555719614029, 0.6426114439964294, 0.16065286099910736, 0.6582997441291809, 0.16457493603229523, 0.16457493603229523, 0.1331986039876938, 0.6659929752349854, 0.1331986039876938, 0.1331986039876938, 0.21491436660289764, 0.4298287332057953, 0.21491436660289764, 0.16118577122688293, 0.24967198073863983, 0.24967198073863983, 0.49934396147727966, 0.36268165707588196, 0.36268165707588196, 0.37636613845825195, 0.18818306922912598, 0.18818306922912598, 0.28227460384368896, 0.5625901818275452, 0.8290072083473206, 0.1381678581237793, 0.046055953949689865, 0.3803541660308838, 0.271681547164917, 0.1901770830154419, 0.1358407735824585, 0.16222213208675385, 0.3244442641735077, 0.16222213208675385, 0.48666638135910034, 0.5620970726013184, 0.7949123382568359, 0.15898247063159943, 0.46790245175361633, 0.2201893925666809, 0.1926657110452652, 0.16514204442501068, 0.2680422067642212, 0.5360844135284424, 0.1340211033821106, 0.2976416051387787, 0.2976416051387787, 0.22323119640350342, 0.14882080256938934, 0.678315281867981, 0.449891060590744, 0.1285403072834015, 0.257080614566803, 0.257080614566803, 0.5731337070465088, 0.19104456901550293, 0.6806297898292542, 0.7341403365135193, 0.18353508412837982, 0.19677388668060303, 0.19677388668060303, 0.49193474650382996, 0.19677388668060303, 0.6706377863883972, 0.19161079823970795, 0.09580539911985397, 0.09580539911985397, 0.14068391919136047, 0.4220517575740814, 0.28136783838272095, 0.14068391919136047, 0.3323310613632202, 0.3323310613632202, 0.19939863681793213, 0.19939863681793213, 0.3716902732849121, 0.09292256832122803, 0.2787677049636841, 0.2787677049636841, 0.24571120738983154, 0.24571120738983154, 0.24571120738983154, 0.24571120738983154, 0.7124087810516357, 0.7359992265701294, 0.18399980664253235, 0.09199990332126617, 0.3997842073440552, 0.1998921036720276, 0.33315351605415344, 0.06663069874048233, 0.5290126204490662, 0.211605042219162, 0.105802521109581, 0.211605042219162, 0.6923400163650513, 0.8435837030410767, 0.7131515741348267, 0.47959765791893005, 0.6794627904891968, 0.40466010570526123, 0.1618640422821045, 0.1618640422821045, 0.323728084564209, 0.5623799562454224, 0.11165682971477509, 0.11165682971477509, 0.44662731885910034, 0.33497050404548645, 0.6503074169158936, 0.26012298464775085, 0.06503074616193771, 0.06503074616193771, 0.22608746588230133, 0.45217493176460266, 0.3668763339519501, 0.3668763339519501, 0.6805360913276672, 0.562961757183075, 0.18765391409397125, 0.14074043929576874, 0.14074043929576874, 0.10804904252290726, 0.5402452349662781, 0.16207356750965118, 0.21609808504581451, 0.22930748760700226, 0.171980619430542, 0.343961238861084, 0.22930748760700226, 0.47868555784225464, 0.20515094697475433, 0.20515094697475433, 0.06838364899158478, 0.5913656949996948, 0.2759706676006317, 0.11827313899993896, 0.7958670854568481, 0.1591734141111374, 0.1591734141111374, 0.325106143951416, 0.162553071975708, 0.487659215927124, 0.7100641131401062, 0.47856277227401733, 0.2044093757867813, 0.12264562398195267, 0.44970062375068665, 0.2044093757867813, 0.6800289154052734, 0.1996697038412094, 0.599009096622467, 0.6319316625595093, 0.1263863444328308, 0.1263863444328308, 0.1263863444328308, 0.7155876755714417, 0.677544355392456, 0.40593278408050537, 0.3247462213039398, 0.1623731106519699, 0.08118655532598495, 0.6679535508155823, 0.2226511836051941, 0.23102374374866486, 0.6930712461471558, 0.1404869705438614, 0.21073046326637268, 0.5619478821754456, 0.1404869705438614, 0.30015990138053894, 0.6003198027610779, 0.4426870048046112, 0.25296398997306824, 0.25296398997306824, 0.06324099749326706, 0.4783807396888733, 0.22424398362636566, 0.22424398362636566, 0.4484879672527313, 0.1439678966999054, 0.1439678966999054, 0.2879357933998108, 0.4319036900997162, 0.5753852725028992, 0.31384652853012085, 0.05230775475502014, 0.7200661897659302, 0.18001654744148254, 0.7299290895462036, 0.1824822723865509, 0.27104923129081726, 0.27104923129081726, 0.5420984625816345, 0.1338389664888382, 0.6691948175430298, 0.1338389664888382, 0.1338389664888382, 0.569766104221344, 0.17092983424663544, 0.284883052110672, 0.05697660893201828, 0.40790173411369324, 0.2330867052078247, 0.2330867052078247, 0.11654335260391235, 0.6809718012809753, 0.7321122884750366, 0.3576017916202545, 0.3576017916202545, 0.5621800422668457, 0.7240628004074097, 0.385638028383255, 0.11018229275941849, 0.22036458551883698, 0.2754557430744171, 0.3517425060272217, 0.3517425060272217, 0.5383673310279846, 0.09788496792316437, 0.19576993584632874, 0.19576993584632874, 0.33036720752716064, 0.39644065499305725, 0.13214688003063202, 0.13214688003063202, 0.22664488852024078, 0.22664488852024078, 0.45328977704048157, 0.22664488852024078, 0.21576756238937378, 0.43153512477874756, 0.32365134358406067, 0.10788378119468689, 0.24496641755104065, 0.4899328351020813, 0.1633109450340271, 0.08165547251701355, 0.7151455879211426, 0.5696325302124023, 0.29431015253067017, 0.11392650753259659, 0.01898775063455105, 0.4553891122341156, 0.24506381154060364, 0.18379786610603333, 0.42886167764663696, 0.12253190577030182, 0.875793993473053, 0.21894849836826324, 0.207711324095726, 0.6231339573860168, 0.207711324095726, 0.207711324095726, 0.36575251817703247, 0.20900143682956696, 0.31350216269493103, 0.10450071841478348, 0.7136899828910828, 0.4078126847743988, 0.15292975306510925, 0.15292975306510925, 0.3058595061302185, 0.5362375974655151, 0.22981610894203186, 0.07660537213087082, 0.15321074426174164, 0.7118993997573853, 0.694908857345581, 0.23163628578186035, 0.3418915867805481, 0.2849096357822418, 0.17094579339027405, 0.11396385729312897, 0.3668869435787201, 0.3668869435787201, 0.24085372686386108, 0.24085372686386108, 0.24085372686386108, 0.24085372686386108, 0.16827745735645294, 0.42069363594055176, 0.2524161636829376, 0.16827745735645294, 0.28708192706108093, 0.28708192706108093, 0.28708192706108093, 0.5622955560684204, 0.7137702107429504, 0.7210423350334167, 0.2030816525220871, 0.2030816525220871, 0.4061633050441742, 0.2030816525220871, 0.2993430495262146, 0.5986860990524292, 0.5617011189460754, 0.5626693367958069, 0.5617339015007019, 0.349149227142334, 0.349149227142334, 0.20948953926563263, 0.13965968787670135, 0.46695712208747864, 0.15565237402915955, 0.3113047480583191, 0.22795350849628448, 0.22795350849628448, 0.5318915247917175, 0.07598450034856796, 0.6816530227661133, 0.712596595287323, 0.7514901757240295, 0.13663457334041595, 0.06831728667020798, 0.144247367978096, 0.288494735956192, 0.144247367978096, 0.4327421188354492, 0.15018557012081146, 0.3003711402416229, 0.2252783626317978, 0.3003711402416229, 0.5728593468666077, 0.28642967343330383, 0.28569141030311584, 0.28569141030311584, 0.28569141030311584, 0.2743019163608551, 0.2743019163608551, 0.5486038327217102, 0.3028480112552643, 0.18170881271362305, 0.3634176254272461, 0.18170881271362305, 0.5618719458580017, 0.5622609853744507, 0.22927118837833405, 0.4585423767566681, 0.22927118837833405, 0.11463559418916702, 0.7531707286834717, 0.18829268217086792, 0.33051565289497375, 0.44068753719329834, 0.11017188429832458, 0.7124961614608765, 0.5808828473091125, 0.2904414236545563, 0.5624606013298035, 0.7012773156166077, 0.14025546610355377, 0.14025546610355377, 0.6894927024841309, 0.15481242537498474, 0.15481242537498474, 0.4644372761249542, 0.15481242537498474, 0.44576796889305115, 0.1783071905374527, 0.3566143810749054, 0.4594747722148895, 0.281790167093277, 0.563580334186554, 0.18417109549045563, 0.46042773127555847, 0.27625665068626404, 0.09208554774522781, 0.37205177545547485, 0.18602588772773743, 0.4650647044181824, 0.09301294386386871, 0.3216814696788788, 0.10722716152667999, 0.3216814696788788, 0.2680678963661194, 0.15809981524944305, 0.6323992609977722, 0.15809981524944305, 0.15809981524944305, 0.7120772004127502, 0.10172531753778458, 0.20345063507556915, 0.10172531753778458, 0.45889171957969666, 0.19666787981987, 0.26222383975982666, 0.06555595993995667, 0.15937717258930206, 0.6375086903572083, 0.15937717258930206, 0.7108516693115234, 0.270870566368103, 0.20315290987491608, 0.3385881781578064, 0.1354352831840515, 0.715146541595459, 0.7398712038993835, 0.09248390048742294, 0.09248390048742294, 0.09248390048742294, 0.2697986960411072, 0.5395973920822144, 0.25460630655288696, 0.38190945982933044, 0.25460630655288696, 0.06365157663822174, 0.6867690682411194, 0.4552048444747925, 0.26691609621047974, 0.13345804810523987, 0.5338321924209595, 0.13345804810523987, 0.735113799571991, 0.18377844989299774, 0.09188922494649887, 0.5952786803245544, 0.1488196700811386, 0.1488196700811386, 0.0744098350405693, 0.42557451128959656, 0.348197340965271, 0.1547543704509735, 0.07737718522548676, 0.47805237770080566, 0.15187448263168335, 0.3037489652633667, 0.45562344789505005, 0.5819078087806702, 0.2909539043903351, 0.5606396794319153, 0.24027414619922638, 0.16018275916576385, 0.08009137958288193, 0.2278885841369629, 0.2278885841369629, 0.4557771682739258, 0.2278885841369629, 0.09250593185424805, 0.6475415229797363, 0.09250593185424805, 0.1850118637084961, 0.4797678291797638, 0.4797678291797638, 0.2624897062778473, 0.2624897062778473, 0.5249794125556946, 0.6812899112701416, 0.48650944232940674, 0.48650944232940674], \"Term\": [\"acu\", \"acu\", \"acu\", \"acu\", \"agi bir\", \"ajudan\", \"aksi\", \"aksi\", \"aksi\", \"aksi\", \"aman\", \"aman\", \"aman\", \"aman\", \"anggota\", \"anggota\", \"anggota\", \"anggota\", \"anjlok\", \"aparat\", \"aparat\", \"arab\", \"arab\", \"arab\", \"argentina\", \"argentina\", \"argentina\", \"argentina\", \"arteri\", \"arus\", \"as\", \"as\", \"as\", \"as\", \"asas\", \"ayat\", \"ayat\", \"ayat\", \"baik\", \"baik\", \"baik\", \"baik\", \"bakat\", \"balap\", \"balap\", \"balap\", \"balap\", \"bantu\", \"bantu\", \"bareskrim\", \"basis\", \"bekuk\", \"bekuk\", \"belanja\", \"belanja\", \"belanja\", \"belanja\", \"bohong\", \"buku\", \"bunga\", \"bunga\", \"bunga\", \"cac\", \"cac\", \"capai\", \"capai\", \"capai\", \"capai\", \"catat\", \"catat\", \"catat\", \"catat\", \"champions\", \"cnn\", \"cnn\", \"cnn\", \"cnn\", \"dagang\", \"dagang\", \"dagang\", \"danick\", \"danick\", \"danick\", \"darmin\", \"darmin\", \"depan\", \"depan\", \"depan\", \"depan\", \"diskon\", \"diskon\", \"diskon\", \"diskon\", \"dolar\", \"dolar\", \"dolar\", \"dolar\", \"duel\", \"duel\", \"duel\", \"duga\", \"duga\", \"duga\", \"duga\", \"dunia\", \"dunia\", \"dunia\", \"dunia\", \"empat\", \"empat\", \"empat\", \"empat\", \"f\", \"f\", \"febby\", \"finish\", \"first\", \"first\", \"flordia\", \"follow\", \"fomc\", \"fowler\", \"generasi\", \"generasi\", \"gerai\", \"gerai\", \"gerak\", \"gerak\", \"golf\", \"golf\", \"golf\", \"golf\", \"grup\", \"grup\", \"grup\", \"grup\", \"guess\", \"guess\", \"habiburokhman\", \"habiburokhman\", \"habiburokhman\", \"hamilton\", \"hamilton\", \"hamilton\", \"hamilton\", \"hasil\", \"hasil\", \"hasil\", \"hasil\", \"herman\", \"herman\", \"herman\", \"hery\", \"hery\", \"hukum\", \"hukum\", \"hukum\", \"hukum\", \"ihsg\", \"indeks\", \"indeks\", \"indeks\", \"indonesia\", \"indonesia\", \"indonesia\", \"indonesia\", \"indra\", \"indra\", \"indra\", \"indra\", \"investing com\", \"iran\", \"iran\", \"jakarta\", \"jakarta\", \"jakarta\", \"jakarta\", \"jaksa\", \"jaksa\", \"jaksa\", \"jalan\", \"jalan\", \"jalan\", \"jalan\", \"januari\", \"jenderal\", \"jenderal\", \"jenderal\", \"jenderal\", \"jepang\", \"jepang\", \"jordan\", \"jual\", \"jual\", \"juara\", \"juara\", \"juara\", \"juara\", \"juta\", \"juta\", \"juta\", \"juta\", \"k l\", \"k l\", \"k l\", \"k l\", \"kait\", \"kait\", \"kait\", \"kait\", \"kalah\", \"kalah\", \"kalah\", \"kalah\", \"kami\", \"kami\", \"kami\", \"kami\", \"kata\", \"keluarga\", \"keluarga\", \"keluarga\", \"kerja\", \"kerja\", \"kerja\", \"kerja\", \"keroyok\", \"keroyok\", \"keroyok\", \"keroyok\", \"khawatir\", \"kisar\", \"komentar\", \"konkret\", \"koordinator\", \"korban\", \"korban\", \"korban\", \"korban\", \"korsel\", \"kroasia\", \"kroasia\", \"kroasia\", \"kroasia\", \"kuat\", \"kuat\", \"kuat\", \"kuat\", \"kuhp\", \"kuhp\", \"kumpul\", \"kumpul\", \"kurun\", \"laku\", \"laku\", \"laku\", \"laku\", \"lapor\", \"lapor\", \"lapor\", \"lapor\", \"lawan\", \"lawan\", \"lawan\", \"lawan\", \"lebaran\", \"lebaran\", \"lebaran\", \"lebaran\", \"lemah\", \"lemah\", \"lemah\", \"lempar\", \"lempar\", \"lempar\", \"level\", \"level\", \"level\", \"lidi\", \"macet\", \"main\", \"main\", \"main\", \"main\", \"major\", \"makan\", \"makan\", \"manfaat\", \"manfaat\", \"manfaat\", \"manfaat\", \"mapolres\", \"maret\", \"mata\", \"mata\", \"mata\", \"mata\", \"mayoritas\", \"mayoritas\", \"mcilroy\", \"mcilroy\", \"menang\", \"menang\", \"menang\", \"menang\", \"menindaklanjuti\", \"menindaklanjuti\", \"menteri\", \"menteri\", \"menteri\", \"menteri\", \"merak\", \"mesir\", \"mesir\", \"mesir\", \"messi\", \"messi\", \"messi\", \"messi\", \"minus\", \"minus\", \"minus\", \"miskin\", \"miskin\", \"mohammadi\", \"mohammadi\", \"muda\", \"muda\", \"muda\", \"mudik\", \"mudik\", \"mudik\", \"mudik\", \"naik\", \"naik\", \"naik\", \"naik\", \"namun\", \"namun\", \"namun\", \"namun\", \"nasution\", \"neraka\", \"nigeria\", \"nigeria\", \"nikkei225\", \"no\", \"novel\", \"novel\", \"novel\", \"novel\", \"novgorod\", \"novgorod\", \"oknum\", \"oknum\", \"oknum\", \"oknum\", \"orang\", \"orang\", \"orang\", \"orang\", \"pada\", \"pada\", \"pada\", \"pada\", \"pagu\", \"pagu\", \"pagu\", \"pagu\", \"pasal\", \"pasal\", \"pasal\", \"pasal\", \"pdip\", \"persen\", \"persen\", \"persen\", \"persen\", \"pga\", \"piala\", \"piala\", \"piala\", \"piala\", \"pkh\", \"pkh\", \"podium\", \"podium\", \"podium\", \"podium\", \"poin\", \"poin\", \"poin\", \"poin\", \"polantas\", \"polisi\", \"polisi\", \"polisi\", \"polisi\", \"polri\", \"polri\", \"polri\", \"polri\", \"pondok\", \"portugal\", \"portugal\", \"posisi\", \"posisi\", \"posisi\", \"posisi\", \"praduga\", \"praduga\", \"pukul\", \"pukul\", \"pukul\", \"pukul\", \"raih\", \"raih\", \"raih\", \"raih\", \"rakitic\", \"rakitic\", \"rakitic\", \"reguler\", \"rerhadap\", \"ri\", \"rita\", \"rita\", \"rita\", \"rita\", \"ronny\", \"ronny\", \"rp1 94\", \"rp12 78\", \"rti\", \"rumah\", \"rumah\", \"rumah\", \"rumah\", \"rupiah\", \"rupiah\", \"rupiah\", \"rusia\", \"rusia\", \"rusia\", \"rusia\", \"ryder\", \"sagita\", \"saham\", \"saham\", \"saham\", \"saksi\", \"saksi\", \"saksi\", \"saksi\", \"salah\", \"salah\", \"salah\", \"salah\", \"salto\", \"salto\", \"sampaoli\", \"sampaoli\", \"sampaoli\", \"saudi\", \"saudi\", \"saudi\", \"saya\", \"saya\", \"saya\", \"saya\", \"sektoral\", \"sell\", \"serap\", \"serap\", \"serap\", \"serap\", \"setyo\", \"setyo\", \"sidang\", \"sidang\", \"sidang\", \"situ\", \"sopir\", \"sopir\", \"sore\", \"spanyol\", \"spanyol\", \"spanyol\", \"spieth\", \"stenson\", \"stenson\", \"stenson\", \"stenson\", \"suku\", \"suku\", \"suku\", \"surrey\", \"syahar\", \"syahar\", \"tabung\", \"tabung\", \"tabung\", \"tabung\", \"tampil\", \"tampil\", \"tampil\", \"tampil\", \"tanding\", \"tanding\", \"tanding\", \"tanding\", \"tangkap\", \"tangkap\", \"tangkap\", \"tangkap\", \"tawar\", \"tawar\", \"tawar\", \"tawar\", \"terima\", \"terima\", \"terima\", \"terima\", \"teroris\", \"teroris\", \"teroris\", \"tilang\", \"timnas\", \"timnas\", \"timnas\", \"timnas\", \"tindaklanjuti\", \"tni\", \"tni\", \"tni\", \"tni\", \"travel\", \"travel\", \"triliun\", \"triliun\", \"triliun\", \"triliun\", \"trofi\", \"tukas\", \"turnamen\", \"turnamen\", \"turnamen\", \"turnamen\", \"turun\", \"turun\", \"turun\", \"tusuk\", \"tusuk\", \"tusuk\", \"tusuk\", \"uang\", \"uang\", \"uang\", \"uang\", \"ujar\", \"uruguay\", \"uruguay\", \"uruguay\", \"urut\", \"urut\", \"usaha\", \"usaha\", \"usaha\", \"usaha\", \"usia\", \"usia\", \"usia\", \"usia\", \"vettel\", \"vettel\", \"vettel\", \"vettel\", \"visum\", \"visum\", \"walaupun\", \"walaupun\", \"walaupun\", \"wgc\", \"yuniarto\", \"yuniarto\"]}, \"R\": 30, \"lambda.step\": 0.01, \"plot.opts\": {\"xlab\": \"PC1\", \"ylab\": \"PC2\"}, \"topic.order\": [1, 4, 2, 3]};\n",
              "\n",
              "function LDAvis_load_lib(url, callback){\n",
              "  var s = document.createElement('script');\n",
              "  s.src = url;\n",
              "  s.async = true;\n",
              "  s.onreadystatechange = s.onload = callback;\n",
              "  s.onerror = function(){console.warn(\"failed to load library \" + url);};\n",
              "  document.getElementsByTagName(\"head\")[0].appendChild(s);\n",
              "}\n",
              "\n",
              "if(typeof(LDAvis) !== \"undefined\"){\n",
              "   // already loaded: just create the visualization\n",
              "   !function(LDAvis){\n",
              "       new LDAvis(\"#\" + \"ldavis_el1281406081754727123121468265\", ldavis_el1281406081754727123121468265_data);\n",
              "   }(LDAvis);\n",
              "}else if(typeof define === \"function\" && define.amd){\n",
              "   // require.js is available: use it to load d3/LDAvis\n",
              "   require.config({paths: {d3: \"https://cdnjs.cloudflare.com/ajax/libs/d3/3.5.5/d3.min\"}});\n",
              "   require([\"d3\"], function(d3){\n",
              "      window.d3 = d3;\n",
              "      LDAvis_load_lib(\"https://cdn.rawgit.com/bmabey/pyLDAvis/files/ldavis.v1.0.0.js\", function(){\n",
              "        new LDAvis(\"#\" + \"ldavis_el1281406081754727123121468265\", ldavis_el1281406081754727123121468265_data);\n",
              "      });\n",
              "    });\n",
              "}else{\n",
              "    // require.js not available: dynamically load d3 & LDAvis\n",
              "    LDAvis_load_lib(\"https://cdnjs.cloudflare.com/ajax/libs/d3/3.5.5/d3.min.js\", function(){\n",
              "         LDAvis_load_lib(\"https://cdn.rawgit.com/bmabey/pyLDAvis/files/ldavis.v1.0.0.js\", function(){\n",
              "                 new LDAvis(\"#\" + \"ldavis_el1281406081754727123121468265\", ldavis_el1281406081754727123121468265_data);\n",
              "            })\n",
              "         });\n",
              "}\n",
              "</script>"
            ],
            "text/plain": [
              "PreparedData(topic_coordinates=              x         y  topics  cluster       Freq\n",
              "topic                                                \n",
              "0      0.042376 -0.021341       1        1  38.757179\n",
              "3      0.011717  0.039274       2        1  25.266870\n",
              "1     -0.020717 -0.012197       3        1  21.955357\n",
              "2     -0.033376 -0.005736       4        1  14.020589, topic_info=     Category        Freq       Term       Total  loglift  logprob\n",
              "471   Default   24.000000       main   24.000000  30.0000  30.0000\n",
              "180   Default  105.000000     persen  105.000000  29.0000  29.0000\n",
              "1398  Default   14.000000      balap   14.000000  28.0000  28.0000\n",
              "45    Default   18.000000      lapor   18.000000  27.0000  27.0000\n",
              "835   Default   18.000000      novel   18.000000  26.0000  26.0000\n",
              "6     Default   11.000000  argentina   11.000000  25.0000  25.0000\n",
              "55    Default   19.000000     polisi   19.000000  24.0000  24.0000\n",
              "133   Default   21.000000     indeks   21.000000  23.0000  23.0000\n",
              "474   Default   14.000000     menang   14.000000  22.0000  22.0000\n",
              "75    Default   18.000000    tanding   18.000000  21.0000  21.0000\n",
              "1447  Default   10.000000     vettel   10.000000  20.0000  20.0000\n",
              "767   Default   13.000000       aman   13.000000  19.0000  19.0000\n",
              "42    Default    8.000000    kroasia    8.000000  18.0000  18.0000\n",
              "437   Default   28.000000      dunia   28.000000  17.0000  17.0000\n",
              "1803  Default   14.000000    belanja   14.000000  16.0000  16.0000\n",
              "309   Default   13.000000      salah   13.000000  15.0000  15.0000\n",
              "254   Default   26.000000       duga   26.000000  14.0000  14.0000\n",
              "946   Default   14.000000       golf   14.000000  13.0000  13.0000\n",
              "46    Default   17.000000      lawan   17.000000  12.0000  12.0000\n",
              "1777  Default    6.000000      messi    6.000000  11.0000  11.0000\n",
              "492   Default   13.000000      rusia   13.000000  10.0000  10.0000\n",
              "266   Default    6.000000      indra    6.000000   9.0000   9.0000\n",
              "730   Default    7.000000      mudik    7.000000   8.0000   8.0000\n",
              "520   Default   13.000000       baik   13.000000   7.0000   7.0000\n",
              "278   Default   12.000000     korban   12.000000   6.0000   6.0000\n",
              "483   Default   16.000000      piala   16.000000   5.0000   5.0000\n",
              "802   Default   15.000000   jenderal   15.000000   4.0000   4.0000\n",
              "1476  Default   23.000000     diskon   23.000000   3.0000   3.0000\n",
              "19    Default   18.000000      hasil   18.000000   2.0000   2.0000\n",
              "262   Default    4.000000     herman    4.000000   1.0000   1.0000\n",
              "...       ...         ...        ...         ...      ...      ...\n",
              "300    Topic4    1.459117      pukul    4.151897   0.9189  -6.4147\n",
              "55     Topic4    5.866191     polisi   19.616850   0.7575  -5.0233\n",
              "835    Topic4    5.385378      novel   18.151737   0.7496  -5.1088\n",
              "309    Topic4    3.948663      salah   13.316858   0.7490  -5.4191\n",
              "767    Topic4    3.821413       aman   13.364563   0.7127  -5.4519\n",
              "252    Topic4    1.999580      depan    6.341283   0.8105  -6.0996\n",
              "278    Topic4    3.531608     korban   12.356049   0.7123  -5.5308\n",
              "75     Topic4    4.704544    tanding   18.651991   0.5872  -5.2440\n",
              "1791   Topic4    1.163072   sampaoli    3.500280   0.8629  -6.6414\n",
              "471    Topic4    5.459287       main   24.460718   0.4649  -5.0952\n",
              "254    Topic4    5.648079       duga   26.618519   0.4144  -5.0612\n",
              "264    Topic4    2.734898      hukum   10.627949   0.6073  -5.7864\n",
              "1398   Topic4    3.404652      balap   14.192402   0.5371  -5.5674\n",
              "454    Topic4    2.712165      kalah   10.761648   0.5864  -5.7948\n",
              "802    Topic4    3.518128   jenderal   15.559322   0.4779  -5.5346\n",
              "46     Topic4    3.720195      lawan   17.443827   0.4194  -5.4787\n",
              "275    Topic4    2.372642    keroyok    9.451571   0.5825  -5.9285\n",
              "45     Topic4    3.727209      lapor   18.510113   0.3620  -5.4769\n",
              "26     Topic4    5.594629    jakarta   36.332359   0.0937  -5.0707\n",
              "437    Topic4    4.730576      dunia   28.932831   0.1537  -5.2385\n",
              "34     Topic4    2.711912       kami   12.209455   0.4601  -5.7949\n",
              "24     Topic4    4.992807  indonesia   36.807800  -0.0331  -5.1845\n",
              "839    Topic4    3.518025      oknum   20.432146   0.2054  -5.5346\n",
              "243    Topic4    2.177279       aksi    8.621882   0.5884  -6.0144\n",
              "11     Topic4    3.766886        cnn   27.191957  -0.0120  -5.4663\n",
              "281    Topic4    2.976057       laku   21.315836  -0.0042  -5.7019\n",
              "19     Topic4    2.768567      hasil   18.612064   0.0592  -5.7742\n",
              "31     Topic4    2.542287       kait   15.045238   0.1866  -5.8594\n",
              "494    Topic4    2.546734       saya   16.509932   0.0955  -5.8577\n",
              "510    Topic4    2.445826     timnas   14.767201   0.1666  -5.8981\n",
              "\n",
              "[291 rows x 6 columns], token_table=      Topic      Freq       Term\n",
              "term                            \n",
              "86        1  0.448466        acu\n",
              "86        2  0.179386        acu\n",
              "86        3  0.358773        acu\n",
              "86        4  0.089693        acu\n",
              "1080      1  0.562437    agi bir\n",
              "242       4  0.716383     ajudan\n",
              "243       1  0.463936       aksi\n",
              "243       2  0.115984       aksi\n",
              "243       3  0.231968       aksi\n",
              "243       4  0.231968       aksi\n",
              "767       1  0.523773       aman\n",
              "767       2  0.149649       aman\n",
              "767       3  0.074825       aman\n",
              "767       4  0.299299       aman\n",
              "326       1  0.744320    anggota\n",
              "326       2  0.148864    anggota\n",
              "326       3  0.074432    anggota\n",
              "326       4  0.074432    anggota\n",
              "1081      1  0.561997     anjlok\n",
              "244       1  0.463517     aparat\n",
              "244       4  0.463517     aparat\n",
              "518       1  0.272739       arab\n",
              "518       2  0.272739       arab\n",
              "518       3  0.545478       arab\n",
              "6         1  0.090386  argentina\n",
              "6         2  0.090386  argentina\n",
              "6         3  0.451928  argentina\n",
              "6         4  0.361542  argentina\n",
              "245       4  0.716713     arteri\n",
              "670       2  0.722091       arus\n",
              "...     ...       ...        ...\n",
              "82        1  0.425575       uang\n",
              "82        2  0.348197       uang\n",
              "82        3  0.154754       uang\n",
              "82        4  0.077377       uang\n",
              "761       2  0.478052       ujar\n",
              "562       1  0.151874    uruguay\n",
              "562       2  0.303749    uruguay\n",
              "562       3  0.455623    uruguay\n",
              "1444      2  0.581908       urut\n",
              "1444      4  0.290954       urut\n",
              "84        1  0.560640      usaha\n",
              "84        2  0.240274      usaha\n",
              "84        3  0.160183      usaha\n",
              "84        4  0.080091      usaha\n",
              "513       1  0.227889       usia\n",
              "513       2  0.227889       usia\n",
              "513       3  0.455777       usia\n",
              "513       4  0.227889       usia\n",
              "1447      1  0.092506     vettel\n",
              "1447      2  0.647542     vettel\n",
              "1447      3  0.092506     vettel\n",
              "1447      4  0.185012     vettel\n",
              "321       2  0.479768      visum\n",
              "321       4  0.479768      visum\n",
              "564       1  0.262490   walaupun\n",
              "564       2  0.262490   walaupun\n",
              "564       3  0.524979   walaupun\n",
              "984       3  0.681290        wgc\n",
              "324       2  0.486509   yuniarto\n",
              "324       4  0.486509   yuniarto\n",
              "\n",
              "[585 rows x 3 columns], R=30, lambda_step=0.01, plot_opts={'xlab': 'PC1', 'ylab': 'PC2'}, topic_order=[1, 4, 2, 3])"
            ]
          },
          "metadata": {
            "tags": []
          },
          "execution_count": 49
        }
      ]
    }
  ]
}