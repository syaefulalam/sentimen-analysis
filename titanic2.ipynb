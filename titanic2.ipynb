{
  "nbformat": 4,
  "nbformat_minor": 0,
  "metadata": {
    "kernelspec": {
      "display_name": "Python timeseries",
      "language": "python",
      "name": "timeseries"
    },
    "language_info": {
      "codemirror_mode": {
        "name": "ipython",
        "version": 3
      },
      "file_extension": ".py",
      "mimetype": "text/x-python",
      "name": "python",
      "nbconvert_exporter": "python",
      "pygments_lexer": "ipython3",
      "version": "3.7.3"
    },
    "colab": {
      "name": "titanic.ipynb",
      "provenance": [],
      "include_colab_link": true
    }
  },
  "cells": [
    {
      "cell_type": "markdown",
      "metadata": {
        "id": "view-in-github",
        "colab_type": "text"
      },
      "source": [
        "<a href=\"https://colab.research.google.com/github/syaefulalam/sentimen-analysis/blob/master/titanic2.ipynb\" target=\"_parent\"><img src=\"https://colab.research.google.com/assets/colab-badge.svg\" alt=\"Open In Colab\"/></a>"
      ]
    },
    {
      "cell_type": "code",
      "metadata": {
        "id": "tWxWIiPp5Yc-",
        "colab_type": "code",
        "colab": {}
      },
      "source": [
        "import pandas as pd\n",
        "from sklearn.model_selection import train_test_split\n",
        "from sklearn import svm\n",
        "import matplotlib.pyplot as plt\n",
        "import seaborn as sns\n",
        "import numpy as np"
      ],
      "execution_count": 0,
      "outputs": []
    },
    {
      "cell_type": "code",
      "metadata": {
        "id": "Qy3ifSCY5YdE",
        "colab_type": "code",
        "colab": {}
      },
      "source": [
        "df = pd.read_csv('train.csv')"
      ],
      "execution_count": 0,
      "outputs": []
    },
    {
      "cell_type": "markdown",
      "metadata": {
        "id": "sbj_bR2a5YdH",
        "colab_type": "raw"
      },
      "source": [
        "Survived => survive or not (0=No, 1=Yes)\n",
        "pclass => passanger class (1=1st, 2=2nd, 3=3rd)\n",
        "sex => gender\n",
        "Age => age in years\n",
        "sibsp => number of siblings/spous aboard the Titanic\n",
        "parch => number of parents/children aboard the Titanic\n",
        "ticket => ticket number\n",
        "fare => passanger fare\n",
        "cabin => cabin number\n",
        "embarked => port of embarktion (C=Cherbourg, Q=Queenstown, S=Southampton)"
      ]
    },
    {
      "cell_type": "code",
      "metadata": {
        "id": "cjHgkn3O5YdJ",
        "colab_type": "code",
        "colab": {},
        "outputId": "b8a68d09-c48c-46ae-c414-34f6a1cbef1a"
      },
      "source": [
        "df.head()"
      ],
      "execution_count": 0,
      "outputs": [
        {
          "output_type": "execute_result",
          "data": {
            "text/html": [
              "<div>\n",
              "<style scoped>\n",
              "    .dataframe tbody tr th:only-of-type {\n",
              "        vertical-align: middle;\n",
              "    }\n",
              "\n",
              "    .dataframe tbody tr th {\n",
              "        vertical-align: top;\n",
              "    }\n",
              "\n",
              "    .dataframe thead th {\n",
              "        text-align: right;\n",
              "    }\n",
              "</style>\n",
              "<table border=\"1\" class=\"dataframe\">\n",
              "  <thead>\n",
              "    <tr style=\"text-align: right;\">\n",
              "      <th></th>\n",
              "      <th>PassengerId</th>\n",
              "      <th>Survived</th>\n",
              "      <th>Pclass</th>\n",
              "      <th>Name</th>\n",
              "      <th>Sex</th>\n",
              "      <th>Age</th>\n",
              "      <th>SibSp</th>\n",
              "      <th>Parch</th>\n",
              "      <th>Ticket</th>\n",
              "      <th>Fare</th>\n",
              "      <th>Cabin</th>\n",
              "      <th>Embarked</th>\n",
              "    </tr>\n",
              "  </thead>\n",
              "  <tbody>\n",
              "    <tr>\n",
              "      <th>0</th>\n",
              "      <td>1</td>\n",
              "      <td>0</td>\n",
              "      <td>3</td>\n",
              "      <td>Braund, Mr. Owen Harris</td>\n",
              "      <td>male</td>\n",
              "      <td>22.0</td>\n",
              "      <td>1</td>\n",
              "      <td>0</td>\n",
              "      <td>A/5 21171</td>\n",
              "      <td>7.2500</td>\n",
              "      <td>NaN</td>\n",
              "      <td>S</td>\n",
              "    </tr>\n",
              "    <tr>\n",
              "      <th>1</th>\n",
              "      <td>2</td>\n",
              "      <td>1</td>\n",
              "      <td>1</td>\n",
              "      <td>Cumings, Mrs. John Bradley (Florence Briggs Th...</td>\n",
              "      <td>female</td>\n",
              "      <td>38.0</td>\n",
              "      <td>1</td>\n",
              "      <td>0</td>\n",
              "      <td>PC 17599</td>\n",
              "      <td>71.2833</td>\n",
              "      <td>C85</td>\n",
              "      <td>C</td>\n",
              "    </tr>\n",
              "    <tr>\n",
              "      <th>2</th>\n",
              "      <td>3</td>\n",
              "      <td>1</td>\n",
              "      <td>3</td>\n",
              "      <td>Heikkinen, Miss. Laina</td>\n",
              "      <td>female</td>\n",
              "      <td>26.0</td>\n",
              "      <td>0</td>\n",
              "      <td>0</td>\n",
              "      <td>STON/O2. 3101282</td>\n",
              "      <td>7.9250</td>\n",
              "      <td>NaN</td>\n",
              "      <td>S</td>\n",
              "    </tr>\n",
              "    <tr>\n",
              "      <th>3</th>\n",
              "      <td>4</td>\n",
              "      <td>1</td>\n",
              "      <td>1</td>\n",
              "      <td>Futrelle, Mrs. Jacques Heath (Lily May Peel)</td>\n",
              "      <td>female</td>\n",
              "      <td>35.0</td>\n",
              "      <td>1</td>\n",
              "      <td>0</td>\n",
              "      <td>113803</td>\n",
              "      <td>53.1000</td>\n",
              "      <td>C123</td>\n",
              "      <td>S</td>\n",
              "    </tr>\n",
              "    <tr>\n",
              "      <th>4</th>\n",
              "      <td>5</td>\n",
              "      <td>0</td>\n",
              "      <td>3</td>\n",
              "      <td>Allen, Mr. William Henry</td>\n",
              "      <td>male</td>\n",
              "      <td>35.0</td>\n",
              "      <td>0</td>\n",
              "      <td>0</td>\n",
              "      <td>373450</td>\n",
              "      <td>8.0500</td>\n",
              "      <td>NaN</td>\n",
              "      <td>S</td>\n",
              "    </tr>\n",
              "  </tbody>\n",
              "</table>\n",
              "</div>"
            ],
            "text/plain": [
              "   PassengerId  Survived  Pclass  \\\n",
              "0            1         0       3   \n",
              "1            2         1       1   \n",
              "2            3         1       3   \n",
              "3            4         1       1   \n",
              "4            5         0       3   \n",
              "\n",
              "                                                Name     Sex   Age  SibSp  \\\n",
              "0                            Braund, Mr. Owen Harris    male  22.0      1   \n",
              "1  Cumings, Mrs. John Bradley (Florence Briggs Th...  female  38.0      1   \n",
              "2                             Heikkinen, Miss. Laina  female  26.0      0   \n",
              "3       Futrelle, Mrs. Jacques Heath (Lily May Peel)  female  35.0      1   \n",
              "4                           Allen, Mr. William Henry    male  35.0      0   \n",
              "\n",
              "   Parch            Ticket     Fare Cabin Embarked  \n",
              "0      0         A/5 21171   7.2500   NaN        S  \n",
              "1      0          PC 17599  71.2833   C85        C  \n",
              "2      0  STON/O2. 3101282   7.9250   NaN        S  \n",
              "3      0            113803  53.1000  C123        S  \n",
              "4      0            373450   8.0500   NaN        S  "
            ]
          },
          "metadata": {
            "tags": []
          },
          "execution_count": 3
        }
      ]
    },
    {
      "cell_type": "code",
      "metadata": {
        "id": "Q58mse_85YdN",
        "colab_type": "code",
        "colab": {},
        "outputId": "8366551b-566f-46b4-91f3-b908902e6814"
      },
      "source": [
        "for col in df.columns:\n",
        "    print(col, df[col].isnull().values.any())"
      ],
      "execution_count": 0,
      "outputs": [
        {
          "output_type": "stream",
          "text": [
            "PassengerId False\n",
            "Survived False\n",
            "Pclass False\n",
            "Name False\n",
            "Sex False\n",
            "Age True\n",
            "SibSp False\n",
            "Parch False\n",
            "Ticket False\n",
            "Fare False\n",
            "Cabin True\n",
            "Embarked True\n"
          ],
          "name": "stdout"
        }
      ]
    },
    {
      "cell_type": "code",
      "metadata": {
        "id": "fM9Vsdee5YdP",
        "colab_type": "code",
        "colab": {}
      },
      "source": [
        "df['Age'] = df['Age'].fillna(df['Age'].mean())\n",
        "df['Embarked'] = df['Embarked'].fillna('U')"
      ],
      "execution_count": 0,
      "outputs": []
    },
    {
      "cell_type": "code",
      "metadata": {
        "id": "WAjrReIR5YdR",
        "colab_type": "code",
        "colab": {}
      },
      "source": [
        "pclass_encoding = pd.get_dummies(df['Pclass'], prefix='Pclass')\n",
        "sex_encoding = pd.get_dummies(df['Sex'], prefix='Sex')\n",
        "embarked_encoding = pd.get_dummies(df['Embarked'], prefix='Embarked')\n",
        "\n",
        "df = pd.concat([df, pclass_encoding, sex_encoding, embarked_encoding], axis=1)"
      ],
      "execution_count": 0,
      "outputs": []
    },
    {
      "cell_type": "code",
      "metadata": {
        "id": "bFXR5ZKj5YdT",
        "colab_type": "code",
        "colab": {},
        "outputId": "54fc9800-4731-40b5-f6f4-e6338b429b50"
      },
      "source": [
        "df.describe()"
      ],
      "execution_count": 0,
      "outputs": [
        {
          "output_type": "execute_result",
          "data": {
            "text/html": [
              "<div>\n",
              "<style scoped>\n",
              "    .dataframe tbody tr th:only-of-type {\n",
              "        vertical-align: middle;\n",
              "    }\n",
              "\n",
              "    .dataframe tbody tr th {\n",
              "        vertical-align: top;\n",
              "    }\n",
              "\n",
              "    .dataframe thead th {\n",
              "        text-align: right;\n",
              "    }\n",
              "</style>\n",
              "<table border=\"1\" class=\"dataframe\">\n",
              "  <thead>\n",
              "    <tr style=\"text-align: right;\">\n",
              "      <th></th>\n",
              "      <th>PassengerId</th>\n",
              "      <th>Survived</th>\n",
              "      <th>Pclass</th>\n",
              "      <th>Age</th>\n",
              "      <th>SibSp</th>\n",
              "      <th>Parch</th>\n",
              "      <th>Fare</th>\n",
              "      <th>Pclass_1</th>\n",
              "      <th>Pclass_2</th>\n",
              "      <th>Pclass_3</th>\n",
              "      <th>Sex_female</th>\n",
              "      <th>Sex_male</th>\n",
              "      <th>Embarked_C</th>\n",
              "      <th>Embarked_Q</th>\n",
              "      <th>Embarked_S</th>\n",
              "      <th>Embarked_U</th>\n",
              "    </tr>\n",
              "  </thead>\n",
              "  <tbody>\n",
              "    <tr>\n",
              "      <th>count</th>\n",
              "      <td>891.000000</td>\n",
              "      <td>891.000000</td>\n",
              "      <td>891.000000</td>\n",
              "      <td>891.000000</td>\n",
              "      <td>891.000000</td>\n",
              "      <td>891.000000</td>\n",
              "      <td>891.000000</td>\n",
              "      <td>891.000000</td>\n",
              "      <td>891.000000</td>\n",
              "      <td>891.000000</td>\n",
              "      <td>891.000000</td>\n",
              "      <td>891.000000</td>\n",
              "      <td>891.000000</td>\n",
              "      <td>891.000000</td>\n",
              "      <td>891.000000</td>\n",
              "      <td>891.000000</td>\n",
              "    </tr>\n",
              "    <tr>\n",
              "      <th>mean</th>\n",
              "      <td>446.000000</td>\n",
              "      <td>0.383838</td>\n",
              "      <td>2.308642</td>\n",
              "      <td>29.699118</td>\n",
              "      <td>0.523008</td>\n",
              "      <td>0.381594</td>\n",
              "      <td>32.204208</td>\n",
              "      <td>0.242424</td>\n",
              "      <td>0.206510</td>\n",
              "      <td>0.551066</td>\n",
              "      <td>0.352413</td>\n",
              "      <td>0.647587</td>\n",
              "      <td>0.188552</td>\n",
              "      <td>0.086420</td>\n",
              "      <td>0.722783</td>\n",
              "      <td>0.002245</td>\n",
              "    </tr>\n",
              "    <tr>\n",
              "      <th>std</th>\n",
              "      <td>257.353842</td>\n",
              "      <td>0.486592</td>\n",
              "      <td>0.836071</td>\n",
              "      <td>13.002015</td>\n",
              "      <td>1.102743</td>\n",
              "      <td>0.806057</td>\n",
              "      <td>49.693429</td>\n",
              "      <td>0.428790</td>\n",
              "      <td>0.405028</td>\n",
              "      <td>0.497665</td>\n",
              "      <td>0.477990</td>\n",
              "      <td>0.477990</td>\n",
              "      <td>0.391372</td>\n",
              "      <td>0.281141</td>\n",
              "      <td>0.447876</td>\n",
              "      <td>0.047351</td>\n",
              "    </tr>\n",
              "    <tr>\n",
              "      <th>min</th>\n",
              "      <td>1.000000</td>\n",
              "      <td>0.000000</td>\n",
              "      <td>1.000000</td>\n",
              "      <td>0.420000</td>\n",
              "      <td>0.000000</td>\n",
              "      <td>0.000000</td>\n",
              "      <td>0.000000</td>\n",
              "      <td>0.000000</td>\n",
              "      <td>0.000000</td>\n",
              "      <td>0.000000</td>\n",
              "      <td>0.000000</td>\n",
              "      <td>0.000000</td>\n",
              "      <td>0.000000</td>\n",
              "      <td>0.000000</td>\n",
              "      <td>0.000000</td>\n",
              "      <td>0.000000</td>\n",
              "    </tr>\n",
              "    <tr>\n",
              "      <th>25%</th>\n",
              "      <td>223.500000</td>\n",
              "      <td>0.000000</td>\n",
              "      <td>2.000000</td>\n",
              "      <td>22.000000</td>\n",
              "      <td>0.000000</td>\n",
              "      <td>0.000000</td>\n",
              "      <td>7.910400</td>\n",
              "      <td>0.000000</td>\n",
              "      <td>0.000000</td>\n",
              "      <td>0.000000</td>\n",
              "      <td>0.000000</td>\n",
              "      <td>0.000000</td>\n",
              "      <td>0.000000</td>\n",
              "      <td>0.000000</td>\n",
              "      <td>0.000000</td>\n",
              "      <td>0.000000</td>\n",
              "    </tr>\n",
              "    <tr>\n",
              "      <th>50%</th>\n",
              "      <td>446.000000</td>\n",
              "      <td>0.000000</td>\n",
              "      <td>3.000000</td>\n",
              "      <td>29.699118</td>\n",
              "      <td>0.000000</td>\n",
              "      <td>0.000000</td>\n",
              "      <td>14.454200</td>\n",
              "      <td>0.000000</td>\n",
              "      <td>0.000000</td>\n",
              "      <td>1.000000</td>\n",
              "      <td>0.000000</td>\n",
              "      <td>1.000000</td>\n",
              "      <td>0.000000</td>\n",
              "      <td>0.000000</td>\n",
              "      <td>1.000000</td>\n",
              "      <td>0.000000</td>\n",
              "    </tr>\n",
              "    <tr>\n",
              "      <th>75%</th>\n",
              "      <td>668.500000</td>\n",
              "      <td>1.000000</td>\n",
              "      <td>3.000000</td>\n",
              "      <td>35.000000</td>\n",
              "      <td>1.000000</td>\n",
              "      <td>0.000000</td>\n",
              "      <td>31.000000</td>\n",
              "      <td>0.000000</td>\n",
              "      <td>0.000000</td>\n",
              "      <td>1.000000</td>\n",
              "      <td>1.000000</td>\n",
              "      <td>1.000000</td>\n",
              "      <td>0.000000</td>\n",
              "      <td>0.000000</td>\n",
              "      <td>1.000000</td>\n",
              "      <td>0.000000</td>\n",
              "    </tr>\n",
              "    <tr>\n",
              "      <th>max</th>\n",
              "      <td>891.000000</td>\n",
              "      <td>1.000000</td>\n",
              "      <td>3.000000</td>\n",
              "      <td>80.000000</td>\n",
              "      <td>8.000000</td>\n",
              "      <td>6.000000</td>\n",
              "      <td>512.329200</td>\n",
              "      <td>1.000000</td>\n",
              "      <td>1.000000</td>\n",
              "      <td>1.000000</td>\n",
              "      <td>1.000000</td>\n",
              "      <td>1.000000</td>\n",
              "      <td>1.000000</td>\n",
              "      <td>1.000000</td>\n",
              "      <td>1.000000</td>\n",
              "      <td>1.000000</td>\n",
              "    </tr>\n",
              "  </tbody>\n",
              "</table>\n",
              "</div>"
            ],
            "text/plain": [
              "       PassengerId    Survived      Pclass         Age       SibSp  \\\n",
              "count   891.000000  891.000000  891.000000  891.000000  891.000000   \n",
              "mean    446.000000    0.383838    2.308642   29.699118    0.523008   \n",
              "std     257.353842    0.486592    0.836071   13.002015    1.102743   \n",
              "min       1.000000    0.000000    1.000000    0.420000    0.000000   \n",
              "25%     223.500000    0.000000    2.000000   22.000000    0.000000   \n",
              "50%     446.000000    0.000000    3.000000   29.699118    0.000000   \n",
              "75%     668.500000    1.000000    3.000000   35.000000    1.000000   \n",
              "max     891.000000    1.000000    3.000000   80.000000    8.000000   \n",
              "\n",
              "            Parch        Fare    Pclass_1    Pclass_2    Pclass_3  Sex_female  \\\n",
              "count  891.000000  891.000000  891.000000  891.000000  891.000000  891.000000   \n",
              "mean     0.381594   32.204208    0.242424    0.206510    0.551066    0.352413   \n",
              "std      0.806057   49.693429    0.428790    0.405028    0.497665    0.477990   \n",
              "min      0.000000    0.000000    0.000000    0.000000    0.000000    0.000000   \n",
              "25%      0.000000    7.910400    0.000000    0.000000    0.000000    0.000000   \n",
              "50%      0.000000   14.454200    0.000000    0.000000    1.000000    0.000000   \n",
              "75%      0.000000   31.000000    0.000000    0.000000    1.000000    1.000000   \n",
              "max      6.000000  512.329200    1.000000    1.000000    1.000000    1.000000   \n",
              "\n",
              "         Sex_male  Embarked_C  Embarked_Q  Embarked_S  Embarked_U  \n",
              "count  891.000000  891.000000  891.000000  891.000000  891.000000  \n",
              "mean     0.647587    0.188552    0.086420    0.722783    0.002245  \n",
              "std      0.477990    0.391372    0.281141    0.447876    0.047351  \n",
              "min      0.000000    0.000000    0.000000    0.000000    0.000000  \n",
              "25%      0.000000    0.000000    0.000000    0.000000    0.000000  \n",
              "50%      1.000000    0.000000    0.000000    1.000000    0.000000  \n",
              "75%      1.000000    0.000000    0.000000    1.000000    0.000000  \n",
              "max      1.000000    1.000000    1.000000    1.000000    1.000000  "
            ]
          },
          "metadata": {
            "tags": []
          },
          "execution_count": 7
        }
      ]
    },
    {
      "cell_type": "code",
      "metadata": {
        "id": "p0yfNGEl5YdW",
        "colab_type": "code",
        "colab": {}
      },
      "source": [
        "def train_test(df, feature_cols, pred_col):\n",
        "    X = df[feature_cols].values\n",
        "    y = df[pred_col].values\n",
        "    \n",
        "    X_train, X_test, y_train, y_test = train_test_split(X, y, test_size=0.2, random_state=777)\n",
        "    clf = svm.SVC().fit(X_train, y_train)\n",
        "    y_preds = clf.predict(X_test)\n",
        "    \n",
        "    correct_prediction = 0\n",
        "    for t, p in zip(y_test, y_preds):\n",
        "        if t == p:\n",
        "            correct_prediction += 1\n",
        "    \n",
        "    return correct_prediction/len(y_test)"
      ],
      "execution_count": 0,
      "outputs": []
    },
    {
      "cell_type": "code",
      "metadata": {
        "id": "JPqqzjPv5YdZ",
        "colab_type": "code",
        "colab": {},
        "outputId": "c3dc358c-c2c3-45c7-aef2-d6f485d63583"
      },
      "source": [
        "feature_cols = ['Age', 'SibSp', 'Parch', 'Fare', 'Pclass_1', 'Pclass_2', 'Pclass_3', 'Sex_female', 'Sex_male', \n",
        "                'Embarked_C', 'Embarked_Q', 'Embarked_S']\n",
        "pred_col = 'Survived'\n",
        "train_test(df, feature_cols, pred_col)"
      ],
      "execution_count": 0,
      "outputs": [
        {
          "output_type": "stream",
          "text": [
            "/Users/gregorius.edwadr/miniconda3/envs/timeseries/lib/python3.7/site-packages/sklearn/svm/base.py:196: FutureWarning: The default value of gamma will change from 'auto' to 'scale' in version 0.22 to account better for unscaled features. Set gamma explicitly to 'auto' or 'scale' to avoid this warning.\n",
            "  \"avoid this warning.\", FutureWarning)\n"
          ],
          "name": "stderr"
        },
        {
          "output_type": "execute_result",
          "data": {
            "text/plain": [
              "0.6983240223463687"
            ]
          },
          "metadata": {
            "tags": []
          },
          "execution_count": 38
        }
      ]
    },
    {
      "cell_type": "code",
      "metadata": {
        "id": "-RpbC3XW5Ydc",
        "colab_type": "code",
        "colab": {},
        "outputId": "d1a08c7c-e9d0-49f2-fe19-da83ce28cd73"
      },
      "source": [
        "df['Survived'].plot.hist()"
      ],
      "execution_count": 0,
      "outputs": [
        {
          "output_type": "execute_result",
          "data": {
            "text/plain": [
              "<matplotlib.axes._subplots.AxesSubplot at 0x1334f4470>"
            ]
          },
          "metadata": {
            "tags": []
          },
          "execution_count": 16
        },
        {
          "output_type": "display_data",
          "data": {
            "image/png": "[encoded data removed]",
            "text/plain": [
              "<Figure size 432x288 with 1 Axes>"
            ]
          },
          "metadata": {
            "tags": [],
            "needs_background": "light"
          }
        }
      ]
    },
    {
      "cell_type": "code",
      "metadata": {
        "id": "BjeIJ1Mx5Ydf",
        "colab_type": "code",
        "colab": {},
        "outputId": "1df1acb5-f91a-4b15-947e-cd1187992af1"
      },
      "source": [
        "df[['Sex','Survived']].groupby(['Sex']).mean().plot.bar()\n",
        "plt.grid(axis='y')\n",
        "plt.show()"
      ],
      "execution_count": 0,
      "outputs": [
        {
          "output_type": "display_data",
          "data": {
            "image/png": "[encoded data removed]",
            "text/plain": [
              "<Figure size 432x288 with 1 Axes>"
            ]
          },
          "metadata": {
            "tags": [],
            "needs_background": "light"
          }
        }
      ]
    },
    {
      "cell_type": "code",
      "metadata": {
        "id": "4c3amdiy5Ydi",
        "colab_type": "code",
        "colab": {},
        "outputId": "21f5d0ab-72ac-44c2-b900-9a1eacc9058c"
      },
      "source": [
        "sns.countplot('Sex',hue='Survived',data=df)\n",
        "plt.show()"
      ],
      "execution_count": 0,
      "outputs": [
        {
          "output_type": "display_data",
          "data": {
            "image/png": "[encoded data removed]",
            "text/plain": [
              "<Figure size 432x288 with 1 Axes>"
            ]
          },
          "metadata": {
            "tags": [],
            "needs_background": "light"
          }
        }
      ]
    },
    {
      "cell_type": "code",
      "metadata": {
        "id": "lb_yucEr5Ydl",
        "colab_type": "code",
        "colab": {},
        "outputId": "661ae629-5d5f-4d20-a5ee-16739e275177"
      },
      "source": [
        "feature_cols = ['Sex_female']\n",
        "pred_col = 'Survived'\n",
        "train_test(df, feature_cols, pred_col)"
      ],
      "execution_count": 0,
      "outputs": [
        {
          "output_type": "stream",
          "text": [
            "/Users/gregorius.edwadr/miniconda3/envs/timeseries/lib/python3.7/site-packages/sklearn/svm/base.py:196: FutureWarning: The default value of gamma will change from 'auto' to 'scale' in version 0.22 to account better for unscaled features. Set gamma explicitly to 'auto' or 'scale' to avoid this warning.\n",
            "  \"avoid this warning.\", FutureWarning)\n"
          ],
          "name": "stderr"
        },
        {
          "output_type": "execute_result",
          "data": {
            "text/plain": [
              "0.7821229050279329"
            ]
          },
          "metadata": {
            "tags": []
          },
          "execution_count": 39
        }
      ]
    },
    {
      "cell_type": "code",
      "metadata": {
        "id": "aqxbE_WS5Ydo",
        "colab_type": "code",
        "colab": {},
        "outputId": "0bc9aa9f-25e6-4034-f127-ac8ea6a08929"
      },
      "source": [
        "survived_df = df[df['Survived'] == 1]\n",
        "non_survived_df = df[df['Survived'] == 0]\n",
        "plt.hist([survived_df['Age'], non_survived_df['Age']], bins = 10, stacked=True,\n",
        "         normed=True, color = ['g','r'], label=['survived', 'non_survived'])\n",
        "plt.show()"
      ],
      "execution_count": 0,
      "outputs": [
        {
          "output_type": "stream",
          "text": [
            "/Users/gregorius.edwadr/miniconda3/envs/timeseries/lib/python3.7/site-packages/matplotlib/axes/_axes.py:6521: MatplotlibDeprecationWarning: \n",
            "The 'normed' kwarg was deprecated in Matplotlib 2.1 and will be removed in 3.1. Use 'density' instead.\n",
            "  alternative=\"'density'\", removal=\"3.1\")\n"
          ],
          "name": "stderr"
        },
        {
          "output_type": "display_data",
          "data": {
            "image/png": "[encoded data removed]",
            "text/plain": [
              "<Figure size 432x288 with 1 Axes>"
            ]
          },
          "metadata": {
            "tags": [],
            "needs_background": "light"
          }
        }
      ]
    },
    {
      "cell_type": "code",
      "metadata": {
        "id": "OgLd16BS5Ydr",
        "colab_type": "code",
        "colab": {},
        "outputId": "ac72ea05-5c31-463e-c17a-5687e1707780"
      },
      "source": [
        "sns.distplot(survived_df['Age'], hist=True, kde=True, \n",
        "             bins=10, color = 'g', \n",
        "             hist_kws={'edgecolor':'black'},\n",
        "             kde_kws={'linewidth': 4})"
      ],
      "execution_count": 0,
      "outputs": [
        {
          "output_type": "execute_result",
          "data": {
            "text/plain": [
              "<matplotlib.axes._subplots.AxesSubplot at 0x13372d0f0>"
            ]
          },
          "metadata": {
            "tags": []
          },
          "execution_count": 25
        },
        {
          "output_type": "display_data",
          "data": {
            "image/png": "[encoded data removed]",
            "text/plain": [
              "<Figure size 432x288 with 1 Axes>"
            ]
          },
          "metadata": {
            "tags": [],
            "needs_background": "light"
          }
        }
      ]
    },
    {
      "cell_type": "code",
      "metadata": {
        "id": "DaT-Gb9k5Ydv",
        "colab_type": "code",
        "colab": {},
        "outputId": "58cf2684-08a4-4e10-c584-ffefacb5fe2e"
      },
      "source": [
        "sns.distplot(survived_df['Age'], hist=False, kde=True, \n",
        "             bins=10, color = 'g', \n",
        "             hist_kws={'edgecolor':'black'},\n",
        "             kde_kws={'linewidth': 4, 'shade':True})\n",
        "sns.distplot(non_survived_df['Age'], hist=False, kde=True, \n",
        "             bins=10, color = 'r', \n",
        "             hist_kws={'edgecolor':'black'},\n",
        "             kde_kws={'linewidth': 4, 'shade':True})"
      ],
      "execution_count": 0,
      "outputs": [
        {
          "output_type": "execute_result",
          "data": {
            "text/plain": [
              "<matplotlib.axes._subplots.AxesSubplot at 0x1339b7a58>"
            ]
          },
          "metadata": {
            "tags": []
          },
          "execution_count": 26
        },
        {
          "output_type": "display_data",
          "data": {
            "image/png": "[encoded data removed]",
            "text/plain": [
              "<Figure size 432x288 with 1 Axes>"
            ]
          },
          "metadata": {
            "tags": [],
            "needs_background": "light"
          }
        }
      ]
    },
    {
      "cell_type": "code",
      "metadata": {
        "id": "KGFcxu0M5Ydz",
        "colab_type": "code",
        "colab": {},
        "outputId": "2f379936-3563-4443-f276-cd91867fa109"
      },
      "source": [
        "df.groupby(['Survived','Pclass'])['Survived'].count()"
      ],
      "execution_count": 0,
      "outputs": [
        {
          "output_type": "execute_result",
          "data": {
            "text/plain": [
              "Survived  Pclass\n",
              "0         1          80\n",
              "          2          97\n",
              "          3         372\n",
              "1         1         136\n",
              "          2          87\n",
              "          3         119\n",
              "Name: Survived, dtype: int64"
            ]
          },
          "metadata": {
            "tags": []
          },
          "execution_count": 27
        }
      ]
    },
    {
      "cell_type": "code",
      "metadata": {
        "id": "8oIQFZyl5Yd5",
        "colab_type": "code",
        "colab": {},
        "outputId": "6e2784d7-050b-4188-a4c9-a1c4c91914cb"
      },
      "source": [
        "pd.crosstab(df.Pclass, df.Survived).style.background_gradient()"
      ],
      "execution_count": 0,
      "outputs": [
        {
          "output_type": "execute_result",
          "data": {
            "text/html": [
              "<style  type=\"text/css\" >\n",
              "    #T_0638646e_0cce_11ea_8601_acde48001122row0_col0 {\n",
              "            background-color:  #fff7fb;\n",
              "            color:  #000000;\n",
              "        }    #T_0638646e_0cce_11ea_8601_acde48001122row0_col1 {\n",
              "            background-color:  #023858;\n",
              "            color:  #f1f1f1;\n",
              "        }    #T_0638646e_0cce_11ea_8601_acde48001122row1_col0 {\n",
              "            background-color:  #f7f0f7;\n",
              "            color:  #000000;\n",
              "        }    #T_0638646e_0cce_11ea_8601_acde48001122row1_col1 {\n",
              "            background-color:  #fff7fb;\n",
              "            color:  #000000;\n",
              "        }    #T_0638646e_0cce_11ea_8601_acde48001122row2_col0 {\n",
              "            background-color:  #023858;\n",
              "            color:  #f1f1f1;\n",
              "        }    #T_0638646e_0cce_11ea_8601_acde48001122row2_col1 {\n",
              "            background-color:  #2a88bc;\n",
              "            color:  #000000;\n",
              "        }</style><table id=\"T_0638646e_0cce_11ea_8601_acde48001122\" ><thead>    <tr>        <th class=\"index_name level0\" >Survived</th>        <th class=\"col_heading level0 col0\" >0</th>        <th class=\"col_heading level0 col1\" >1</th>    </tr>    <tr>        <th class=\"index_name level0\" >Pclass</th>        <th class=\"blank\" ></th>        <th class=\"blank\" ></th>    </tr></thead><tbody>\n",
              "                <tr>\n",
              "                        <th id=\"T_0638646e_0cce_11ea_8601_acde48001122level0_row0\" class=\"row_heading level0 row0\" >1</th>\n",
              "                        <td id=\"T_0638646e_0cce_11ea_8601_acde48001122row0_col0\" class=\"data row0 col0\" >80</td>\n",
              "                        <td id=\"T_0638646e_0cce_11ea_8601_acde48001122row0_col1\" class=\"data row0 col1\" >136</td>\n",
              "            </tr>\n",
              "            <tr>\n",
              "                        <th id=\"T_0638646e_0cce_11ea_8601_acde48001122level0_row1\" class=\"row_heading level0 row1\" >2</th>\n",
              "                        <td id=\"T_0638646e_0cce_11ea_8601_acde48001122row1_col0\" class=\"data row1 col0\" >97</td>\n",
              "                        <td id=\"T_0638646e_0cce_11ea_8601_acde48001122row1_col1\" class=\"data row1 col1\" >87</td>\n",
              "            </tr>\n",
              "            <tr>\n",
              "                        <th id=\"T_0638646e_0cce_11ea_8601_acde48001122level0_row2\" class=\"row_heading level0 row2\" >3</th>\n",
              "                        <td id=\"T_0638646e_0cce_11ea_8601_acde48001122row2_col0\" class=\"data row2 col0\" >372</td>\n",
              "                        <td id=\"T_0638646e_0cce_11ea_8601_acde48001122row2_col1\" class=\"data row2 col1\" >119</td>\n",
              "            </tr>\n",
              "    </tbody></table>"
            ],
            "text/plain": [
              "<pandas.io.formats.style.Styler at 0x133a9c4a8>"
            ]
          },
          "metadata": {
            "tags": []
          },
          "execution_count": 28
        }
      ]
    },
    {
      "cell_type": "code",
      "metadata": {
        "id": "_OcQ5EeM5Yd7",
        "colab_type": "code",
        "colab": {},
        "outputId": "efac9021-ac8d-4eee-f2d0-d88af033cf28"
      },
      "source": [
        "pd.crosstab(df['Pclass'], df['Survived'], normalize='index').style.background_gradient()"
      ],
      "execution_count": 0,
      "outputs": [
        {
          "output_type": "execute_result",
          "data": {
            "text/html": [
              "<style  type=\"text/css\" >\n",
              "    #T_063be490_0cce_11ea_8601_acde48001122row0_col0 {\n",
              "            background-color:  #fff7fb;\n",
              "            color:  #000000;\n",
              "        }    #T_063be490_0cce_11ea_8601_acde48001122row0_col1 {\n",
              "            background-color:  #023858;\n",
              "            color:  #f1f1f1;\n",
              "        }    #T_063be490_0cce_11ea_8601_acde48001122row1_col0 {\n",
              "            background-color:  #9ab8d8;\n",
              "            color:  #000000;\n",
              "        }    #T_063be490_0cce_11ea_8601_acde48001122row1_col1 {\n",
              "            background-color:  #4496c3;\n",
              "            color:  #000000;\n",
              "        }    #T_063be490_0cce_11ea_8601_acde48001122row2_col0 {\n",
              "            background-color:  #023858;\n",
              "            color:  #f1f1f1;\n",
              "        }    #T_063be490_0cce_11ea_8601_acde48001122row2_col1 {\n",
              "            background-color:  #fff7fb;\n",
              "            color:  #000000;\n",
              "        }</style><table id=\"T_063be490_0cce_11ea_8601_acde48001122\" ><thead>    <tr>        <th class=\"index_name level0\" >Survived</th>        <th class=\"col_heading level0 col0\" >0</th>        <th class=\"col_heading level0 col1\" >1</th>    </tr>    <tr>        <th class=\"index_name level0\" >Pclass</th>        <th class=\"blank\" ></th>        <th class=\"blank\" ></th>    </tr></thead><tbody>\n",
              "                <tr>\n",
              "                        <th id=\"T_063be490_0cce_11ea_8601_acde48001122level0_row0\" class=\"row_heading level0 row0\" >1</th>\n",
              "                        <td id=\"T_063be490_0cce_11ea_8601_acde48001122row0_col0\" class=\"data row0 col0\" >0.37037</td>\n",
              "                        <td id=\"T_063be490_0cce_11ea_8601_acde48001122row0_col1\" class=\"data row0 col1\" >0.62963</td>\n",
              "            </tr>\n",
              "            <tr>\n",
              "                        <th id=\"T_063be490_0cce_11ea_8601_acde48001122level0_row1\" class=\"row_heading level0 row1\" >2</th>\n",
              "                        <td id=\"T_063be490_0cce_11ea_8601_acde48001122row1_col0\" class=\"data row1 col0\" >0.527174</td>\n",
              "                        <td id=\"T_063be490_0cce_11ea_8601_acde48001122row1_col1\" class=\"data row1 col1\" >0.472826</td>\n",
              "            </tr>\n",
              "            <tr>\n",
              "                        <th id=\"T_063be490_0cce_11ea_8601_acde48001122level0_row2\" class=\"row_heading level0 row2\" >3</th>\n",
              "                        <td id=\"T_063be490_0cce_11ea_8601_acde48001122row2_col0\" class=\"data row2 col0\" >0.757637</td>\n",
              "                        <td id=\"T_063be490_0cce_11ea_8601_acde48001122row2_col1\" class=\"data row2 col1\" >0.242363</td>\n",
              "            </tr>\n",
              "    </tbody></table>"
            ],
            "text/plain": [
              "<pandas.io.formats.style.Styler at 0x13347db00>"
            ]
          },
          "metadata": {
            "tags": []
          },
          "execution_count": 29
        }
      ]
    },
    {
      "cell_type": "code",
      "metadata": {
        "id": "lIt_ZcIM5Yd-",
        "colab_type": "code",
        "colab": {},
        "outputId": "c7dcfecf-7027-4941-de67-4d3984d061e2"
      },
      "source": [
        "pd.crosstab([df['Sex'],df['Pclass']], df['Survived'], normalize='index').style.background_gradient()"
      ],
      "execution_count": 0,
      "outputs": [
        {
          "output_type": "execute_result",
          "data": {
            "text/html": [
              "<style  type=\"text/css\" >\n",
              "    #T_075aa0b4_0cce_11ea_8601_acde48001122row0_col0 {\n",
              "            background-color:  #fff7fb;\n",
              "            color:  #000000;\n",
              "        }    #T_075aa0b4_0cce_11ea_8601_acde48001122row0_col1 {\n",
              "            background-color:  #023858;\n",
              "            color:  #f1f1f1;\n",
              "        }    #T_075aa0b4_0cce_11ea_8601_acde48001122row1_col0 {\n",
              "            background-color:  #f7f0f7;\n",
              "            color:  #000000;\n",
              "        }    #T_075aa0b4_0cce_11ea_8601_acde48001122row1_col1 {\n",
              "            background-color:  #03476f;\n",
              "            color:  #f1f1f1;\n",
              "        }    #T_075aa0b4_0cce_11ea_8601_acde48001122row2_col0 {\n",
              "            background-color:  #569dc8;\n",
              "            color:  #000000;\n",
              "        }    #T_075aa0b4_0cce_11ea_8601_acde48001122row2_col1 {\n",
              "            background-color:  #8cb3d5;\n",
              "            color:  #000000;\n",
              "        }    #T_075aa0b4_0cce_11ea_8601_acde48001122row3_col0 {\n",
              "            background-color:  #1077b4;\n",
              "            color:  #f1f1f1;\n",
              "        }    #T_075aa0b4_0cce_11ea_8601_acde48001122row3_col1 {\n",
              "            background-color:  #c6cce3;\n",
              "            color:  #000000;\n",
              "        }    #T_075aa0b4_0cce_11ea_8601_acde48001122row4_col0 {\n",
              "            background-color:  #023e62;\n",
              "            color:  #f1f1f1;\n",
              "        }    #T_075aa0b4_0cce_11ea_8601_acde48001122row4_col1 {\n",
              "            background-color:  #fbf4f9;\n",
              "            color:  #000000;\n",
              "        }    #T_075aa0b4_0cce_11ea_8601_acde48001122row5_col0 {\n",
              "            background-color:  #023858;\n",
              "            color:  #f1f1f1;\n",
              "        }    #T_075aa0b4_0cce_11ea_8601_acde48001122row5_col1 {\n",
              "            background-color:  #fff7fb;\n",
              "            color:  #000000;\n",
              "        }</style><table id=\"T_075aa0b4_0cce_11ea_8601_acde48001122\" ><thead>    <tr>        <th class=\"blank\" ></th>        <th class=\"index_name level0\" >Survived</th>        <th class=\"col_heading level0 col0\" >0</th>        <th class=\"col_heading level0 col1\" >1</th>    </tr>    <tr>        <th class=\"index_name level0\" >Sex</th>        <th class=\"index_name level1\" >Pclass</th>        <th class=\"blank\" ></th>        <th class=\"blank\" ></th>    </tr></thead><tbody>\n",
              "                <tr>\n",
              "                        <th id=\"T_075aa0b4_0cce_11ea_8601_acde48001122level0_row0\" class=\"row_heading level0 row0\" rowspan=3>female</th>\n",
              "                        <th id=\"T_075aa0b4_0cce_11ea_8601_acde48001122level1_row0\" class=\"row_heading level1 row0\" >1</th>\n",
              "                        <td id=\"T_075aa0b4_0cce_11ea_8601_acde48001122row0_col0\" class=\"data row0 col0\" >0.0319149</td>\n",
              "                        <td id=\"T_075aa0b4_0cce_11ea_8601_acde48001122row0_col1\" class=\"data row0 col1\" >0.968085</td>\n",
              "            </tr>\n",
              "            <tr>\n",
              "                                <th id=\"T_075aa0b4_0cce_11ea_8601_acde48001122level1_row1\" class=\"row_heading level1 row1\" >2</th>\n",
              "                        <td id=\"T_075aa0b4_0cce_11ea_8601_acde48001122row1_col0\" class=\"data row1 col0\" >0.0789474</td>\n",
              "                        <td id=\"T_075aa0b4_0cce_11ea_8601_acde48001122row1_col1\" class=\"data row1 col1\" >0.921053</td>\n",
              "            </tr>\n",
              "            <tr>\n",
              "                                <th id=\"T_075aa0b4_0cce_11ea_8601_acde48001122level1_row2\" class=\"row_heading level1 row2\" >3</th>\n",
              "                        <td id=\"T_075aa0b4_0cce_11ea_8601_acde48001122row2_col0\" class=\"data row2 col0\" >0.5</td>\n",
              "                        <td id=\"T_075aa0b4_0cce_11ea_8601_acde48001122row2_col1\" class=\"data row2 col1\" >0.5</td>\n",
              "            </tr>\n",
              "            <tr>\n",
              "                        <th id=\"T_075aa0b4_0cce_11ea_8601_acde48001122level0_row3\" class=\"row_heading level0 row3\" rowspan=3>male</th>\n",
              "                        <th id=\"T_075aa0b4_0cce_11ea_8601_acde48001122level1_row3\" class=\"row_heading level1 row3\" >1</th>\n",
              "                        <td id=\"T_075aa0b4_0cce_11ea_8601_acde48001122row3_col0\" class=\"data row3 col0\" >0.631148</td>\n",
              "                        <td id=\"T_075aa0b4_0cce_11ea_8601_acde48001122row3_col1\" class=\"data row3 col1\" >0.368852</td>\n",
              "            </tr>\n",
              "            <tr>\n",
              "                                <th id=\"T_075aa0b4_0cce_11ea_8601_acde48001122level1_row4\" class=\"row_heading level1 row4\" >2</th>\n",
              "                        <td id=\"T_075aa0b4_0cce_11ea_8601_acde48001122row4_col0\" class=\"data row4 col0\" >0.842593</td>\n",
              "                        <td id=\"T_075aa0b4_0cce_11ea_8601_acde48001122row4_col1\" class=\"data row4 col1\" >0.157407</td>\n",
              "            </tr>\n",
              "            <tr>\n",
              "                                <th id=\"T_075aa0b4_0cce_11ea_8601_acde48001122level1_row5\" class=\"row_heading level1 row5\" >3</th>\n",
              "                        <td id=\"T_075aa0b4_0cce_11ea_8601_acde48001122row5_col0\" class=\"data row5 col0\" >0.864553</td>\n",
              "                        <td id=\"T_075aa0b4_0cce_11ea_8601_acde48001122row5_col1\" class=\"data row5 col1\" >0.135447</td>\n",
              "            </tr>\n",
              "    </tbody></table>"
            ],
            "text/plain": [
              "<pandas.io.formats.style.Styler at 0x133649c88>"
            ]
          },
          "metadata": {
            "tags": []
          },
          "execution_count": 30
        }
      ]
    },
    {
      "cell_type": "code",
      "metadata": {
        "id": "OxvPlv3Y5YeE",
        "colab_type": "code",
        "colab": {},
        "outputId": "c11e1460-c71f-45ce-d1ef-f4d1c0b968ed"
      },
      "source": [
        "pd.crosstab([df['Sex'],df['Pclass']], df['Survived']).style.background_gradient()"
      ],
      "execution_count": 0,
      "outputs": [
        {
          "output_type": "execute_result",
          "data": {
            "text/html": [
              "<style  type=\"text/css\" >\n",
              "    #T_07c49fe6_0cce_11ea_8601_acde48001122row0_col0 {\n",
              "            background-color:  #fff7fb;\n",
              "            color:  #000000;\n",
              "        }    #T_07c49fe6_0cce_11ea_8601_acde48001122row0_col1 {\n",
              "            background-color:  #023858;\n",
              "            color:  #f1f1f1;\n",
              "        }    #T_07c49fe6_0cce_11ea_8601_acde48001122row1_col0 {\n",
              "            background-color:  #fef6fa;\n",
              "            color:  #000000;\n",
              "        }    #T_07c49fe6_0cce_11ea_8601_acde48001122row1_col1 {\n",
              "            background-color:  #1278b4;\n",
              "            color:  #f1f1f1;\n",
              "        }    #T_07c49fe6_0cce_11ea_8601_acde48001122row2_col0 {\n",
              "            background-color:  #d4d4e8;\n",
              "            color:  #000000;\n",
              "        }    #T_07c49fe6_0cce_11ea_8601_acde48001122row2_col1 {\n",
              "            background-color:  #0771b1;\n",
              "            color:  #f1f1f1;\n",
              "        }    #T_07c49fe6_0cce_11ea_8601_acde48001122row3_col0 {\n",
              "            background-color:  #d1d2e6;\n",
              "            color:  #000000;\n",
              "        }    #T_07c49fe6_0cce_11ea_8601_acde48001122row3_col1 {\n",
              "            background-color:  #a5bddb;\n",
              "            color:  #000000;\n",
              "        }    #T_07c49fe6_0cce_11ea_8601_acde48001122row4_col0 {\n",
              "            background-color:  #c1cae2;\n",
              "            color:  #000000;\n",
              "        }    #T_07c49fe6_0cce_11ea_8601_acde48001122row4_col1 {\n",
              "            background-color:  #fff7fb;\n",
              "            color:  #000000;\n",
              "        }    #T_07c49fe6_0cce_11ea_8601_acde48001122row5_col0 {\n",
              "            background-color:  #023858;\n",
              "            color:  #f1f1f1;\n",
              "        }    #T_07c49fe6_0cce_11ea_8601_acde48001122row5_col1 {\n",
              "            background-color:  #9ab8d8;\n",
              "            color:  #000000;\n",
              "        }</style><table id=\"T_07c49fe6_0cce_11ea_8601_acde48001122\" ><thead>    <tr>        <th class=\"blank\" ></th>        <th class=\"index_name level0\" >Survived</th>        <th class=\"col_heading level0 col0\" >0</th>        <th class=\"col_heading level0 col1\" >1</th>    </tr>    <tr>        <th class=\"index_name level0\" >Sex</th>        <th class=\"index_name level1\" >Pclass</th>        <th class=\"blank\" ></th>        <th class=\"blank\" ></th>    </tr></thead><tbody>\n",
              "                <tr>\n",
              "                        <th id=\"T_07c49fe6_0cce_11ea_8601_acde48001122level0_row0\" class=\"row_heading level0 row0\" rowspan=3>female</th>\n",
              "                        <th id=\"T_07c49fe6_0cce_11ea_8601_acde48001122level1_row0\" class=\"row_heading level1 row0\" >1</th>\n",
              "                        <td id=\"T_07c49fe6_0cce_11ea_8601_acde48001122row0_col0\" class=\"data row0 col0\" >3</td>\n",
              "                        <td id=\"T_07c49fe6_0cce_11ea_8601_acde48001122row0_col1\" class=\"data row0 col1\" >91</td>\n",
              "            </tr>\n",
              "            <tr>\n",
              "                                <th id=\"T_07c49fe6_0cce_11ea_8601_acde48001122level1_row1\" class=\"row_heading level1 row1\" >2</th>\n",
              "                        <td id=\"T_07c49fe6_0cce_11ea_8601_acde48001122row1_col0\" class=\"data row1 col0\" >6</td>\n",
              "                        <td id=\"T_07c49fe6_0cce_11ea_8601_acde48001122row1_col1\" class=\"data row1 col1\" >70</td>\n",
              "            </tr>\n",
              "            <tr>\n",
              "                                <th id=\"T_07c49fe6_0cce_11ea_8601_acde48001122level1_row2\" class=\"row_heading level1 row2\" >3</th>\n",
              "                        <td id=\"T_07c49fe6_0cce_11ea_8601_acde48001122row2_col0\" class=\"data row2 col0\" >72</td>\n",
              "                        <td id=\"T_07c49fe6_0cce_11ea_8601_acde48001122row2_col1\" class=\"data row2 col1\" >72</td>\n",
              "            </tr>\n",
              "            <tr>\n",
              "                        <th id=\"T_07c49fe6_0cce_11ea_8601_acde48001122level0_row3\" class=\"row_heading level0 row3\" rowspan=3>male</th>\n",
              "                        <th id=\"T_07c49fe6_0cce_11ea_8601_acde48001122level1_row3\" class=\"row_heading level1 row3\" >1</th>\n",
              "                        <td id=\"T_07c49fe6_0cce_11ea_8601_acde48001122row3_col0\" class=\"data row3 col0\" >77</td>\n",
              "                        <td id=\"T_07c49fe6_0cce_11ea_8601_acde48001122row3_col1\" class=\"data row3 col1\" >45</td>\n",
              "            </tr>\n",
              "            <tr>\n",
              "                                <th id=\"T_07c49fe6_0cce_11ea_8601_acde48001122level1_row4\" class=\"row_heading level1 row4\" >2</th>\n",
              "                        <td id=\"T_07c49fe6_0cce_11ea_8601_acde48001122row4_col0\" class=\"data row4 col0\" >91</td>\n",
              "                        <td id=\"T_07c49fe6_0cce_11ea_8601_acde48001122row4_col1\" class=\"data row4 col1\" >17</td>\n",
              "            </tr>\n",
              "            <tr>\n",
              "                                <th id=\"T_07c49fe6_0cce_11ea_8601_acde48001122level1_row5\" class=\"row_heading level1 row5\" >3</th>\n",
              "                        <td id=\"T_07c49fe6_0cce_11ea_8601_acde48001122row5_col0\" class=\"data row5 col0\" >300</td>\n",
              "                        <td id=\"T_07c49fe6_0cce_11ea_8601_acde48001122row5_col1\" class=\"data row5 col1\" >47</td>\n",
              "            </tr>\n",
              "    </tbody></table>"
            ],
            "text/plain": [
              "<pandas.io.formats.style.Styler at 0x10df022e8>"
            ]
          },
          "metadata": {
            "tags": []
          },
          "execution_count": 31
        }
      ]
    },
    {
      "cell_type": "code",
      "metadata": {
        "id": "IXo9URCw5YeI",
        "colab_type": "code",
        "colab": {},
        "outputId": "46deaf7c-46d5-4f8e-c10f-cb773d6ef8d2"
      },
      "source": [
        "feature_cols = ['Pclass_1', 'Pclass_2', 'Pclass_3', 'Sex_male']\n",
        "pred_col = 'Survived'\n",
        "train_test(df, feature_cols, pred_col)"
      ],
      "execution_count": 0,
      "outputs": [
        {
          "output_type": "stream",
          "text": [
            "/Users/gregorius.edwadr/miniconda3/envs/timeseries/lib/python3.7/site-packages/sklearn/svm/base.py:196: FutureWarning: The default value of gamma will change from 'auto' to 'scale' in version 0.22 to account better for unscaled features. Set gamma explicitly to 'auto' or 'scale' to avoid this warning.\n",
            "  \"avoid this warning.\", FutureWarning)\n"
          ],
          "name": "stderr"
        },
        {
          "output_type": "execute_result",
          "data": {
            "text/plain": [
              "0.7821229050279329"
            ]
          },
          "metadata": {
            "tags": []
          },
          "execution_count": 40
        }
      ]
    },
    {
      "cell_type": "code",
      "metadata": {
        "id": "tiFnonUG5YeL",
        "colab_type": "code",
        "colab": {},
        "outputId": "1538ba88-57f5-42dc-979d-325279447575"
      },
      "source": [
        "sns.barplot('SibSp','Survived',data=df)"
      ],
      "execution_count": 0,
      "outputs": [
        {
          "output_type": "execute_result",
          "data": {
            "text/plain": [
              "<matplotlib.axes._subplots.AxesSubplot at 0x10eb88cf8>"
            ]
          },
          "metadata": {
            "tags": []
          },
          "execution_count": 43
        },
        {
          "output_type": "display_data",
          "data": {
            "image/png": "[encoded data removed]",
            "text/plain": [
              "<Figure size 432x288 with 1 Axes>"
            ]
          },
          "metadata": {
            "tags": [],
            "needs_background": "light"
          }
        }
      ]
    },
    {
      "cell_type": "code",
      "metadata": {
        "id": "91j7wUh_5YeO",
        "colab_type": "code",
        "colab": {},
        "outputId": "f49c6235-e679-4aa2-8e2e-37a2169a2f7d"
      },
      "source": [
        "sns.factorplot('SibSp','Survived',data=df)"
      ],
      "execution_count": 0,
      "outputs": [
        {
          "output_type": "stream",
          "text": [
            "/Users/gregorius.edwadr/miniconda3/envs/timeseries/lib/python3.7/site-packages/seaborn/categorical.py:3666: UserWarning: The `factorplot` function has been renamed to `catplot`. The original name will be removed in a future release. Please update your code. Note that the default `kind` in `factorplot` (`'point'`) has changed `'strip'` in `catplot`.\n",
            "  warnings.warn(msg)\n"
          ],
          "name": "stderr"
        },
        {
          "output_type": "execute_result",
          "data": {
            "text/plain": [
              "<seaborn.axisgrid.FacetGrid at 0x10ecd90f0>"
            ]
          },
          "metadata": {
            "tags": []
          },
          "execution_count": 44
        },
        {
          "output_type": "display_data",
          "data": {
            "image/png": "[encoded data removed]",
            "text/plain": [
              "<Figure size 360x360 with 1 Axes>"
            ]
          },
          "metadata": {
            "tags": [],
            "needs_background": "light"
          }
        }
      ]
    },
    {
      "cell_type": "code",
      "metadata": {
        "id": "o4tFGfdr5YeQ",
        "colab_type": "code",
        "colab": {},
        "outputId": "bb2c42d5-d89f-40fc-a716-8c9e8d4f42d7"
      },
      "source": [
        "sns.factorplot('Parch','Survived',data=df)"
      ],
      "execution_count": 0,
      "outputs": [
        {
          "output_type": "execute_result",
          "data": {
            "text/plain": [
              "<seaborn.axisgrid.FacetGrid at 0x133b95438>"
            ]
          },
          "metadata": {
            "tags": []
          },
          "execution_count": 45
        },
        {
          "output_type": "display_data",
          "data": {
            "image/png": "[encoded data removed]",
            "text/plain": [
              "<Figure size 360x360 with 1 Axes>"
            ]
          },
          "metadata": {
            "tags": [],
            "needs_background": "light"
          }
        }
      ]
    },
    {
      "cell_type": "code",
      "metadata": {
        "id": "-Kp9a4fa5YeU",
        "colab_type": "code",
        "colab": {}
      },
      "source": [
        "df['less_parch'] = np.where(df['Parch'] <= 3, 1, 0)\n",
        "df['less_sibsp'] = np.where(df['Parch'] <= 2, 1, 0)"
      ],
      "execution_count": 0,
      "outputs": []
    },
    {
      "cell_type": "code",
      "metadata": {
        "scrolled": true,
        "id": "H-s1V-Ga5YeW",
        "colab_type": "code",
        "colab": {},
        "outputId": "52b8c804-b7a7-45af-eb39-b4651d3e65f1"
      },
      "source": [
        "feature_cols = ['SibSp', 'Parch', 'Sex_female']\n",
        "pred_col = 'Survived'\n",
        "train_test(df, feature_cols, pred_col)"
      ],
      "execution_count": 0,
      "outputs": [
        {
          "output_type": "stream",
          "text": [
            "/Users/gregorius.edwadr/miniconda3/envs/timeseries/lib/python3.7/site-packages/sklearn/svm/base.py:196: FutureWarning: The default value of gamma will change from 'auto' to 'scale' in version 0.22 to account better for unscaled features. Set gamma explicitly to 'auto' or 'scale' to avoid this warning.\n",
            "  \"avoid this warning.\", FutureWarning)\n"
          ],
          "name": "stderr"
        },
        {
          "output_type": "execute_result",
          "data": {
            "text/plain": [
              "0.7932960893854749"
            ]
          },
          "metadata": {
            "tags": []
          },
          "execution_count": 47
        }
      ]
    },
    {
      "cell_type": "code",
      "metadata": {
        "id": "bQY9Uskj5YeY",
        "colab_type": "code",
        "colab": {},
        "outputId": "859d8b24-f672-46ed-ed58-9dbdcc382bff"
      },
      "source": [
        "feature_cols = ['SibSp', 'Parch', 'less_parch', 'Sex_female']\n",
        "pred_col = 'Survived'\n",
        "train_test(df, feature_cols, pred_col)"
      ],
      "execution_count": 0,
      "outputs": [
        {
          "output_type": "stream",
          "text": [
            "/Users/gregorius.edwadr/miniconda3/envs/timeseries/lib/python3.7/site-packages/sklearn/svm/base.py:196: FutureWarning: The default value of gamma will change from 'auto' to 'scale' in version 0.22 to account better for unscaled features. Set gamma explicitly to 'auto' or 'scale' to avoid this warning.\n",
            "  \"avoid this warning.\", FutureWarning)\n"
          ],
          "name": "stderr"
        },
        {
          "output_type": "execute_result",
          "data": {
            "text/plain": [
              "0.8044692737430168"
            ]
          },
          "metadata": {
            "tags": []
          },
          "execution_count": 49
        }
      ]
    },
    {
      "cell_type": "code",
      "metadata": {
        "id": "HB4woqaD5Yea",
        "colab_type": "code",
        "colab": {}
      },
      "source": [
        ""
      ],
      "execution_count": 0,
      "outputs": []
    }
  ]
}